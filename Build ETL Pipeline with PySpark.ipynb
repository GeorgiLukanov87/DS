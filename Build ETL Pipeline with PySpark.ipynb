{
 "cells": [
  {
   "cell_type": "code",
   "execution_count": 55,
   "id": "983442ac-1563-4d49-959b-e50944ee4a28",
   "metadata": {},
   "outputs": [],
   "source": [
    "from pyspark import SparkContext, SparkConf\n",
    "from pyspark.sql import SparkSession, SQLContext\n",
    "import os\n",
    "import sys\n",
    "from pyspark.sql.functions import *\n",
    "import psycopg2"
   ]
  },
  {
   "cell_type": "code",
   "execution_count": 56,
   "id": "31781468-304e-408d-a1da-97c633943d7c",
   "metadata": {},
   "outputs": [],
   "source": [
    "# set Java home\n",
    "os.environ[\"JAVA_HOME\"] = \"C:/Users/User/AppData/Local/Programs/Eclipse Adoptium/jdk-11.0.25.9-hotspot\""
   ]
  },
  {
   "cell_type": "code",
   "execution_count": 57,
   "id": "ab792ee3-bddb-440d-bbce-e915279bc39a",
   "metadata": {},
   "outputs": [],
   "source": [
    "conf = SparkConf() \\\n",
    "    .setAppName(\"ETLPipeline\") \\\n",
    "    .setMaster(\"local\") \\\n",
    "    .set(\"spark.driver.extraClassPath\",\"C:/jars/*\")"
   ]
  },
  {
   "cell_type": "code",
   "execution_count": 58,
   "id": "409e5c19-b6ec-4c30-836f-396ff0e25c24",
   "metadata": {},
   "outputs": [],
   "source": [
    "sc = SparkContext.getOrCreate(conf=conf)\n",
    "etl = SparkSession(sc)"
   ]
  },
  {
   "cell_type": "code",
   "execution_count": 59,
   "id": "5a39051b-5c4f-44cb-9e19-964df37680c6",
   "metadata": {},
   "outputs": [
    {
     "data": {
      "text/plain": [
       "(<SparkContext master=local appName=ETLPipeline>,\n",
       " <pyspark.sql.session.SparkSession at 0x1f7772277d0>)"
      ]
     },
     "execution_count": 59,
     "metadata": {},
     "output_type": "execute_result"
    }
   ],
   "source": [
    "sc, etl"
   ]
  },
  {
   "cell_type": "code",
   "execution_count": 60,
   "id": "0102aa48-9442-456f-9a9a-0d9a921ebbcb",
   "metadata": {},
   "outputs": [],
   "source": [
    "#get password from environmnet var\n",
    "pwd = \"demopass\"\n",
    "uid = \"etl\"\n",
    "#sql db details\n",
    "server = \"localhost\"\n",
    "src_db = \"Diablo\"\n",
    "target_db = \"test_db\"\n",
    "src_driver = \"com.microsoft.sqlserver.jdbc.SQLServerDriver\"\n",
    "target_driver = \"org.postgresql.Driver\""
   ]
  },
  {
   "cell_type": "code",
   "execution_count": 61,
   "id": "f27d1e77-f4e4-4e52-87b8-017bf262f4ee",
   "metadata": {},
   "outputs": [],
   "source": [
    "# source connection\n",
    "src_url = f\"jdbc:sqlserver://{server}:1433;databaseName={src_db};user={uid};password={pwd};encrypt=false;\"\n",
    "\n",
    "# target connection\n",
    "target_url = f\"jdbc:postgresql://{server}:5432/{target_db}?user={uid}&password={pwd}\""
   ]
  },
  {
   "cell_type": "code",
   "execution_count": 62,
   "id": "0347f09e-e3b1-409a-b784-5328bfddeb1e",
   "metadata": {},
   "outputs": [],
   "source": [
    "sql = \"\"\"select  t.name as table_name from sys.tables t \n",
    "where t.name in ('Games','Items','Users','GameTypes') \"\"\""
   ]
  },
  {
   "cell_type": "code",
   "execution_count": 63,
   "id": "6d6ba731-4cbf-4b17-b579-bc292492a4ff",
   "metadata": {},
   "outputs": [
    {
     "name": "stdout",
     "output_type": "stream",
     "text": [
      "+----------+\n",
      "|table_name|\n",
      "+----------+\n",
      "|     Games|\n",
      "| GameTypes|\n",
      "|     Items|\n",
      "|     Users|\n",
      "+----------+\n",
      "\n"
     ]
    }
   ],
   "source": [
    "# Let's test our connection\n",
    "dfs=etl.read. \\\n",
    "    format(\"jdbc\"). \\\n",
    "    options(driver=src_driver, user=uid, password=pwd, url=src_url, query=sql). \\\n",
    "    load()\n",
    "dfs.show()"
   ]
  },
  {
   "cell_type": "code",
   "execution_count": 64,
   "id": "5df033b2-24f7-471e-a57b-9fa37c97695d",
   "metadata": {},
   "outputs": [
    {
     "name": "stdout",
     "output_type": "stream",
     "text": [
      "Games\n",
      "GameTypes\n",
      "Items\n",
      "Users\n"
     ]
    }
   ],
   "source": [
    "data_collect = dfs.collect()\n",
    "# looping thorough each row of the dataframe\n",
    "for row in data_collect:\n",
    "    # while looping through each\n",
    "    # row printing the data of table_name\n",
    "    print(row[\"table_name\"])"
   ]
  },
  {
   "cell_type": "code",
   "execution_count": 65,
   "id": "a983e3dc-ea6c-4bbe-a0b1-1cadb5426026",
   "metadata": {},
   "outputs": [],
   "source": [
    "def extract():\n",
    "    try:\n",
    "        dfs=etl.read. \\\n",
    "            format(\"jdbc\"). \\\n",
    "            options(driver=src_driver,user=uid, password=pwd,url=src_url,query=sql). \\\n",
    "            load()\n",
    "        # get table names\n",
    "        data_collect = dfs.collect()\n",
    "        # looping thorough each row of the dataframe\n",
    "        for row in data_collect:\n",
    "        # while looping through each\n",
    "        # row printing the data of table_name\n",
    "            print(row[\"table_name\"])\n",
    "            tbl_name = row[\"table_name\"]\n",
    "            df = etl.read \\\n",
    "            .format(\"jdbc\") \\\n",
    "            .option(\"driver\", src_driver) \\\n",
    "            .option(\"user\", uid) \\\n",
    "            .option(\"password\", pwd) \\\n",
    "            .option(\"url\", src_url) \\\n",
    "            .option(\"dbtable\", f\"dbo.{tbl_name}\") \\\n",
    "            .load()\n",
    "            #print(df.show(10))\n",
    "            load(df, tbl_name)\n",
    "            print(\"Data loaded successfully\")\n",
    "    except Exception as e:\n",
    "        print(\"Data extract error: \" + str(e))"
   ]
  },
  {
   "cell_type": "code",
   "execution_count": 66,
   "id": "d9ce26db-f3aa-4354-bbf6-21f58d9ea632",
   "metadata": {},
   "outputs": [],
   "source": [
    "def load(df, tbl):\n",
    "    try:\n",
    "        rows_imported = 0\n",
    "        print(f'importing rows {rows_imported} to {rows_imported + df.count()}... for table {tbl}')\n",
    "        df.write.mode(\"overwrite\") \\\n",
    "        .format(\"jdbc\") \\\n",
    "        .option(\"url\", target_url) \\\n",
    "        .option(\"user\", uid) \\\n",
    "        .option(\"password\", pwd) \\\n",
    "        .option(\"driver\", target_driver) \\\n",
    "        .option(\"dbtable\", \"src_\" + tbl) \\\n",
    "        .save()\n",
    "        print(\"Data imported successful\")\n",
    "        rows_imported += df.count()\n",
    "    except Exception as e:\n",
    "        print(\"Data load error: \" + str(e))"
   ]
  },
  {
   "cell_type": "code",
   "execution_count": 67,
   "id": "69dd29bb-8694-4c81-b2ab-8842134dc16c",
   "metadata": {},
   "outputs": [
    {
     "name": "stdout",
     "output_type": "stream",
     "text": [
      "Games\n",
      "importing rows 0 to 241... for table Games\n",
      "Data imported successful\n",
      "Data loaded successfully\n",
      "GameTypes\n",
      "importing rows 0 to 5... for table GameTypes\n",
      "Data imported successful\n",
      "Data loaded successfully\n",
      "Items\n",
      "importing rows 0 to 577... for table Items\n",
      "Data imported successful\n",
      "Data loaded successfully\n",
      "Users\n",
      "importing rows 0 to 71... for table Users\n",
      "Data imported successful\n",
      "Data loaded successfully\n"
     ]
    }
   ],
   "source": [
    "# Function Call\n",
    "extract()"
   ]
  },
  {
   "cell_type": "code",
   "execution_count": null,
   "id": "4adab896-f501-4a65-89ec-115e9ca024cc",
   "metadata": {},
   "outputs": [],
   "source": []
  }
 ],
 "metadata": {
  "kernelspec": {
   "display_name": "Python 3 (ipykernel)",
   "language": "python",
   "name": "python3"
  },
  "language_info": {
   "codemirror_mode": {
    "name": "ipython",
    "version": 3
   },
   "file_extension": ".py",
   "mimetype": "text/x-python",
   "name": "python",
   "nbconvert_exporter": "python",
   "pygments_lexer": "ipython3",
   "version": "3.11.5"
  }
 },
 "nbformat": 4,
 "nbformat_minor": 5
}
