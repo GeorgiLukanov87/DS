{
 "cells": [
  {
   "cell_type": "code",
   "execution_count": 1,
   "id": "66363e01-f795-43d3-8fcf-6dd10c1ff58f",
   "metadata": {},
   "outputs": [],
   "source": [
    "from pyspark.sql import SparkSession\n",
    "from pyspark.sql.functions import udf, col\n",
    "from pyspark.sql.types import StringType\n",
    "\n",
    "from Crypto.Cipher import AES\n",
    "import base64\n",
    "from pyspark.sql.functions import col, lit, when, regexp_replace, sha2, concat_ws\n",
    "from pyspark.sql.types import StructType, StructField, StringType, IntegerType, DateType\n",
    "from pyspark import SparkContext, SparkConf\n",
    "from pyspark.sql import SparkSession, SQLContext\n",
    "import os\n",
    "import sys\n",
    "from pyspark.sql.functions import *\n",
    "import psycopg2"
   ]
  },
  {
   "cell_type": "code",
   "execution_count": 2,
   "id": "a0967f8e-0b60-4b9e-86ee-f9a61af4f245",
   "metadata": {},
   "outputs": [],
   "source": [
    "os.environ[\"JAVA_HOME\"] = \"C:/Users/User/AppData/Local/Programs/Eclipse Adoptium/jdk-11.0.25.9-hotspot\"\n",
    "os.environ[\"PYSPARK_PYTHON\"] = \"C:/Users/User/AppData/Local/Programs/Python/Python311/python.exe\"\n",
    "os.environ[\"PYSPARK_DRIVER_PYTHON\"] = \"C:/Users/User/AppData/Local/Programs/Python/Python311/python.exe\"\n"
   ]
  },
  {
   "cell_type": "code",
   "execution_count": 3,
   "id": "6ea458af-4ab8-4f40-9075-7c0eed8909b9",
   "metadata": {},
   "outputs": [],
   "source": [
    "conf = SparkConf() \\\n",
    "    .setAppName(\"Encryption Example\") \\\n",
    "    .setMaster(\"local\") \\\n",
    "    .set(\"spark.driver.extraClassPath\",\"C:/jars/*\")"
   ]
  },
  {
   "cell_type": "code",
   "execution_count": 4,
   "id": "0671bb6c-b861-42b5-aa4d-42d3f5a0239c",
   "metadata": {},
   "outputs": [],
   "source": [
    "sc = SparkContext.getOrCreate(conf=conf)\n",
    "spark = SparkSession(sc)"
   ]
  },
  {
   "cell_type": "code",
   "execution_count": 5,
   "id": "7ce17a47-b3f6-4724-91ed-c76740b4ba69",
   "metadata": {},
   "outputs": [
    {
     "data": {
      "text/html": [
       "\n",
       "            <div>\n",
       "                <p><b>SparkSession - in-memory</b></p>\n",
       "                \n",
       "        <div>\n",
       "            <p><b>SparkContext</b></p>\n",
       "\n",
       "            <p><a href=\"http://Goto:4040\">Spark UI</a></p>\n",
       "\n",
       "            <dl>\n",
       "              <dt>Version</dt>\n",
       "                <dd><code>v3.5.5</code></dd>\n",
       "              <dt>Master</dt>\n",
       "                <dd><code>local</code></dd>\n",
       "              <dt>AppName</dt>\n",
       "                <dd><code>Encryption Example</code></dd>\n",
       "            </dl>\n",
       "        </div>\n",
       "        \n",
       "            </div>\n",
       "        "
      ],
      "text/plain": [
       "<pyspark.sql.session.SparkSession at 0x1c55dd4a5d0>"
      ]
     },
     "execution_count": 5,
     "metadata": {},
     "output_type": "execute_result"
    }
   ],
   "source": [
    "spark"
   ]
  },
  {
   "cell_type": "code",
   "execution_count": 6,
   "id": "73f7f039-ecda-4c8d-a756-0f3cb1ef4d6d",
   "metadata": {},
   "outputs": [],
   "source": [
    "from Crypto.Cipher import AES\n",
    "import base64\n",
    "\n",
    "key = b'ThisIsASecretKey'  # 16 bytes key (for AES-128)\n",
    "\n",
    "def pad(text):\n",
    "    \"\"\"Pads text to be a multiple of 16 bytes\"\"\"\n",
    "    pad_len = 16 - (len(text.encode('utf-8')) % 16)\n",
    "    return text + chr(pad_len) * pad_len\n",
    "\n",
    "def unpad(text):\n",
    "    \"\"\"Removes padding\"\"\"\n",
    "    pad_len = ord(text[-1])\n",
    "    return text[:-pad_len]\n",
    "\n",
    "def encrypt(plain_text):\n",
    "    try:\n",
    "        cipher = AES.new(key, AES.MODE_ECB)\n",
    "        padded_text = pad(plain_text)\n",
    "        encrypted_bytes = cipher.encrypt(padded_text.encode('utf-8'))\n",
    "        encoded = base64.b64encode(encrypted_bytes).decode('utf-8')\n",
    "        return encoded\n",
    "    except Exception as e:\n",
    "        print(f\"Encryption error: {e}\")\n",
    "        return None\n",
    "\n",
    "def decrypt(encrypted_text):\n",
    "    try:\n",
    "        cipher = AES.new(key, AES.MODE_ECB)\n",
    "        decoded_encrypted_bytes = base64.b64decode(encrypted_text)\n",
    "        decrypted_bytes = cipher.decrypt(decoded_encrypted_bytes)\n",
    "        decrypted_text = decrypted_bytes.decode('utf-8')\n",
    "        return unpad(decrypted_text)\n",
    "    except Exception as e:\n",
    "        print(f\"Decryption error: {e}\")\n",
    "        return None\n"
   ]
  },
  {
   "cell_type": "code",
   "execution_count": 7,
   "id": "1d1fd320-7bac-408c-87af-8a3c4970a88f",
   "metadata": {},
   "outputs": [],
   "source": [
    "encrypt_udf = udf(encrypt, StringType())\n",
    "decrypt_udf = udf(decrypt, StringType())\n",
    "\n",
    "data = [\n",
    "    (\"1\", \"john.doe@example.com\", \"+359812345678\"),\n",
    "    (\"2\", \"maria.ivanova@example.com\", \"+359876543210\")\n",
    "]\n",
    "\n",
    "columns = [\"id\", \"email\", \"phone_number\"]\n",
    "\n",
    "df = spark.createDataFrame(data, columns)"
   ]
  },
  {
   "cell_type": "code",
   "execution_count": 8,
   "id": "8302bdf0-1606-4863-8b45-bbb4a3ad4eee",
   "metadata": {},
   "outputs": [
    {
     "name": "stdout",
     "output_type": "stream",
     "text": [
      "Encrypted: pkCut/tcKWXNPY34Z+xoOfDrSlfSrhJHhSih+HZ8v30=\n",
      "Decrypted: john.doe@example.com\n"
     ]
    }
   ],
   "source": [
    "sample_email = \"john.doe@example.com\"\n",
    "\n",
    "enc_email = encrypt(sample_email)\n",
    "print(f\"Encrypted: {enc_email}\")\n",
    "\n",
    "dec_email = decrypt(enc_email)\n",
    "print(f\"Decrypted: {dec_email}\")\n"
   ]
  },
  {
   "cell_type": "code",
   "execution_count": 9,
   "id": "9fd13c79-9110-419b-b5de-e8a2d352b772",
   "metadata": {},
   "outputs": [
    {
     "name": "stdout",
     "output_type": "stream",
     "text": [
      "root\n",
      " |-- id: string (nullable = true)\n",
      " |-- email: string (nullable = true)\n",
      " |-- phone_number: string (nullable = true)\n",
      "\n"
     ]
    }
   ],
   "source": [
    "df.printSchema()"
   ]
  },
  {
   "cell_type": "code",
   "execution_count": 13,
   "id": "40708dfd-a355-4d10-89c0-b6a8d851438d",
   "metadata": {},
   "outputs": [
    {
     "name": "stdout",
     "output_type": "stream",
     "text": [
      "+---+-------------------------+-------------+--------------------------------------------+------------------------+\n",
      "|id |email                    |phone_number |email_encrypted                             |phone_encrypted         |\n",
      "+---+-------------------------+-------------+--------------------------------------------+------------------------+\n",
      "|1  |john.doe@example.com     |+359812345678|pkCut/tcKWXNPY34Z+xoOfDrSlfSrhJHhSih+HZ8v30=|XuoGshQ3AiKxpgTHJy0tUw==|\n",
      "|2  |maria.ivanova@example.com|+359876543210|YG2ZJCkdlDG1Xhcly57jg1UO543p/y8qgl0KrJ6n7lk=|5lzMhndBrspezM/svaRn4w==|\n",
      "+---+-------------------------+-------------+--------------------------------------------+------------------------+\n",
      "\n",
      "+---+-------------------------+-------------+--------------------------------------------+------------------------+-------------------------+---------------+\n",
      "|id |email                    |phone_number |email_encrypted                             |phone_encrypted         |email_decrypted          |phone_decrypted|\n",
      "+---+-------------------------+-------------+--------------------------------------------+------------------------+-------------------------+---------------+\n",
      "|1  |john.doe@example.com     |+359812345678|pkCut/tcKWXNPY34Z+xoOfDrSlfSrhJHhSih+HZ8v30=|XuoGshQ3AiKxpgTHJy0tUw==|john.doe@example.com     |+359812345678  |\n",
      "|2  |maria.ivanova@example.com|+359876543210|YG2ZJCkdlDG1Xhcly57jg1UO543p/y8qgl0KrJ6n7lk=|5lzMhndBrspezM/svaRn4w==|maria.ivanova@example.com|+359876543210  |\n",
      "+---+-------------------------+-------------+--------------------------------------------+------------------------+-------------------------+---------------+\n",
      "\n"
     ]
    }
   ],
   "source": [
    "encrypted_df = df.withColumn(\"email_encrypted\", encrypt_udf(col(\"email\"))) \\\n",
    "                 .withColumn(\"phone_encrypted\", encrypt_udf(col(\"phone_number\")))\n",
    "\n",
    "encrypted_df.show(truncate=False)\n",
    "\n",
    "decrypted_df = encrypted_df.withColumn(\"email_decrypted\", decrypt_udf(col(\"email_encrypted\"))) \\\n",
    "                           .withColumn(\"phone_decrypted\", decrypt_udf(col(\"phone_encrypted\")))\n",
    "\n",
    "decrypted_df.show(truncate=False)\n"
   ]
  },
  {
   "cell_type": "code",
   "execution_count": null,
   "id": "b11c7585-a91d-4161-b15b-b65878a983d1",
   "metadata": {},
   "outputs": [],
   "source": []
  }
 ],
 "metadata": {
  "kernelspec": {
   "display_name": "Python 3 (ipykernel)",
   "language": "python",
   "name": "python3"
  },
  "language_info": {
   "codemirror_mode": {
    "name": "ipython",
    "version": 3
   },
   "file_extension": ".py",
   "mimetype": "text/x-python",
   "name": "python",
   "nbconvert_exporter": "python",
   "pygments_lexer": "ipython3",
   "version": "3.11.5"
  }
 },
 "nbformat": 4,
 "nbformat_minor": 5
}
