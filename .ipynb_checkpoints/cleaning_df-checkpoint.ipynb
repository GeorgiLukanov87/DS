{
 "cells": [
  {
   "cell_type": "code",
   "execution_count": 1,
   "id": "1f119a70-eca5-40ea-a858-83c29f075489",
   "metadata": {},
   "outputs": [],
   "source": [
    "from pyspark.sql.functions import col, lit, when, regexp_replace, sha2, concat_ws\n",
    "from pyspark.sql.types import StructType, StructField, StringType, IntegerType, DateType\n",
    "from pyspark import SparkContext, SparkConf\n",
    "from pyspark.sql import SparkSession, SQLContext\n",
    "import os\n",
    "import sys\n",
    "from pyspark.sql.functions import *\n",
    "import psycopg2"
   ]
  },
  {
   "cell_type": "code",
   "execution_count": 2,
   "id": "babacdc0-eff2-4dee-8de4-bb998bc0bafc",
   "metadata": {},
   "outputs": [],
   "source": [
    "os.environ[\"JAVA_HOME\"] = \"C:/Users/User/AppData/Local/Programs/Eclipse Adoptium/jdk-11.0.25.9-hotspot\""
   ]
  },
  {
   "cell_type": "code",
   "execution_count": 3,
   "id": "96fb57e2-505b-4429-92a0-caf4b39b91eb",
   "metadata": {},
   "outputs": [],
   "source": [
    "conf = SparkConf() \\\n",
    "    .setAppName(\"ETLPipeline\") \\\n",
    "    .setMaster(\"local\") \\\n",
    "    .set(\"spark.driver.extraClassPath\",\"C:/jars/*\")"
   ]
  },
  {
   "cell_type": "code",
   "execution_count": 6,
   "id": "361e2f14-adbe-46f3-b58f-35a846d0e172",
   "metadata": {},
   "outputs": [],
   "source": [
    "sc = SparkContext.getOrCreate(conf=conf)\n",
    "spark = SparkSession(sc)"
   ]
  },
  {
   "cell_type": "code",
   "execution_count": 7,
   "id": "9d46c72d-7933-4ab1-8fee-1a78ee94b56e",
   "metadata": {},
   "outputs": [
    {
     "data": {
      "text/html": [
       "\n",
       "            <div>\n",
       "                <p><b>SparkSession - in-memory</b></p>\n",
       "                \n",
       "        <div>\n",
       "            <p><b>SparkContext</b></p>\n",
       "\n",
       "            <p><a href=\"http://Goto:4040\">Spark UI</a></p>\n",
       "\n",
       "            <dl>\n",
       "              <dt>Version</dt>\n",
       "                <dd><code>v3.5.5</code></dd>\n",
       "              <dt>Master</dt>\n",
       "                <dd><code>local</code></dd>\n",
       "              <dt>AppName</dt>\n",
       "                <dd><code>ETLPipeline</code></dd>\n",
       "            </dl>\n",
       "        </div>\n",
       "        \n",
       "            </div>\n",
       "        "
      ],
      "text/plain": [
       "<pyspark.sql.session.SparkSession at 0x29a11bfd6d0>"
      ]
     },
     "execution_count": 7,
     "metadata": {},
     "output_type": "execute_result"
    }
   ],
   "source": [
    "spark"
   ]
  },
  {
   "cell_type": "code",
   "execution_count": 11,
   "id": "3a7c9fb7-b129-456e-bef9-c6483382c6f3",
   "metadata": {},
   "outputs": [],
   "source": [
    "\n",
    "schema = StructType([\n",
    "    StructField(\"id\", StringType(), True),\n",
    "    StructField(\"first_name\", StringType(), True),\n",
    "    StructField(\"last_name\", StringType(), True),\n",
    "    StructField(\"email\", StringType(), True),\n",
    "    StructField(\"phone_number\", StringType(), True),\n",
    "    StructField(\"birth_date\", DateType(), True),\n",
    "    StructField(\"country\", StringType(), True)\n",
    "])\n",
    "\n",
    "\n",
    "raw_df = spark.read.format(\"csv\") \\\n",
    "    .option(\"header\", \"true\") \\\n",
    "    .schema(schema) \\\n",
    "    .load(\"customers.csv\")"
   ]
  },
  {
   "cell_type": "code",
   "execution_count": 13,
   "id": "2ebc9504-42db-4f8c-9987-626bcacdbac5",
   "metadata": {},
   "outputs": [
    {
     "name": "stdout",
     "output_type": "stream",
     "text": [
      "+----+----------+---------+------------------+-------------+----------+--------+\n",
      "|  id|first_name|last_name|             email| phone_number|birth_date| country|\n",
      "+----+----------+---------+------------------+-------------+----------+--------+\n",
      "|0001|      Jane|  Ivanova| user1@example.com|+359872837997|1983-10-20| Germany|\n",
      "|0002|      Jane|  Ivanova| user2@example.com|+359873576092|1985-03-09|     USA|\n",
      "|0003|      Anna|      Doe| user3@example.com|+359875550487|1983-04-22|     USA|\n",
      "|0004|      John|   Koleva| user4@example.com|+359870819793|1999-02-23| Belgium|\n",
      "|0005|      Ivan|   Petrov| user5@example.com|+359871869307|1991-07-04| Germany|\n",
      "|0006|      John| Georgiev| user6@example.com|+359876716412|1983-05-26| Belgium|\n",
      "|0007|      Ivan|   Petrov| user7@example.com|+359879017692|1983-07-14| Germany|\n",
      "|0008|     Maria|    Smith| user8@example.com|+359874956900|1999-06-08| Ireland|\n",
      "|0009|      Jane|   Koleva| user9@example.com|+359876360207|1990-09-03| Belgium|\n",
      "|0010|      Ivan|    Smith|user10@example.com|+359878083033|1990-12-27| Germany|\n",
      "|0011|      Jane|  Ivanova|user11@example.com|+359872295708|1983-07-08| Ireland|\n",
      "|0012|      Anna|   Koleva|user12@example.com|+359875457368|1997-05-23|     USA|\n",
      "|0013|      Jane|   Petrov|user13@example.com|+359873021631|1990-08-24|     USA|\n",
      "|0014|      John| Georgiev|user14@example.com|+359872243517|1998-08-16|     USA|\n",
      "|0015|      Ivan|   Petrov|user15@example.com|+359875281070|1989-02-15| Germany|\n",
      "|0016|      Jane|  Ivanova|user16@example.com|+359878843570|1994-10-22| Germany|\n",
      "|0017|    Georgi|    Smith|user17@example.com|+359872538086|1975-10-10| Germany|\n",
      "|0018|     Maria|      Doe|user18@example.com|+359872724785|1981-08-13| Germany|\n",
      "|0019|      John|   Koleva|user19@example.com|+359873637168|1984-05-10|Bulgaria|\n",
      "|0020|      Jane|  Ivanova|user20@example.com|+359874159387|1972-06-16| Belgium|\n",
      "+----+----------+---------+------------------+-------------+----------+--------+\n",
      "\n"
     ]
    }
   ],
   "source": [
    "raw_df.show()"
   ]
  },
  {
   "cell_type": "code",
   "execution_count": 14,
   "id": "f0886041-aa7a-4e51-9deb-b374dd363510",
   "metadata": {},
   "outputs": [],
   "source": [
    "# 4. GDPR anonymization - хеширане на лични данни\n",
    "anonymized_df = raw_df.withColumn(\"email_hash\", sha2(col(\"email\"), 256)) \\\n",
    "                      .withColumn(\"phone_hash\", sha2(col(\"phone_number\"), 256)) \\\n",
    "                      .drop(\"email\", \"phone_number\")"
   ]
  },
  {
   "cell_type": "code",
   "execution_count": 16,
   "id": "20d8b6cb-9b47-444b-82e0-56fd89caee98",
   "metadata": {},
   "outputs": [
    {
     "name": "stdout",
     "output_type": "stream",
     "text": [
      "+----+----------+---------+----------+--------+--------------------+--------------------+\n",
      "|  id|first_name|last_name|birth_date| country|          email_hash|          phone_hash|\n",
      "+----+----------+---------+----------+--------+--------------------+--------------------+\n",
      "|0001|      Jane|  Ivanova|1983-10-20| Germany|b36a83701f1c3191e...|a325ef9b3e751a3ed...|\n",
      "|0002|      Jane|  Ivanova|1985-03-09|     USA|2b3b2b9ce842ab8b6...|f503ab29434ee000e...|\n",
      "|0003|      Anna|      Doe|1983-04-22|     USA|898628e28890f937b...|f80350dfd9b2e2e19...|\n",
      "|0004|      John|   Koleva|1999-02-23| Belgium|40d71d3f998c168e7...|e3fb8f506b7abfe4c...|\n",
      "|0005|      Ivan|   Petrov|1991-07-04| Germany|4d8f4dd97e0c7b6fe...|659cbbe71279ae9a8...|\n",
      "|0006|      John| Georgiev|1983-05-26| Belgium|b430419a8a3fa1ce5...|dae098253612e288f...|\n",
      "|0007|      Ivan|   Petrov|1983-07-14| Germany|38121022af9b425b5...|dcdacfab6a9562d90...|\n",
      "|0008|     Maria|    Smith|1999-06-08| Ireland|675657c179a97bde8...|7f63b2656ffc159d6...|\n",
      "|0009|      Jane|   Koleva|1990-09-03| Belgium|b1e700bec7b4c7c38...|2e26f42d072b80b3e...|\n",
      "|0010|      Ivan|    Smith|1990-12-27| Germany|1cc95683bbb5c4811...|9064f3c7e930708a7...|\n",
      "|0011|      Jane|  Ivanova|1983-07-08| Ireland|69e6267c53626874a...|49322bd766fdbd251...|\n",
      "|0012|      Anna|   Koleva|1997-05-23|     USA|882ecc75a8c8ab735...|1a4c212de70d7c787...|\n",
      "|0013|      Jane|   Petrov|1990-08-24|     USA|f221e7d82b835de7b...|83a067c80413d7af9...|\n",
      "|0014|      John| Georgiev|1998-08-16|     USA|241b6d9462fcc1986...|9862606d4df70a6ad...|\n",
      "|0015|      Ivan|   Petrov|1989-02-15| Germany|19e2f1dbc9e6c95e4...|a5b9b3d7135b253f4...|\n",
      "|0016|      Jane|  Ivanova|1994-10-22| Germany|67df3e41329159dd3...|a1c80197293d54fbd...|\n",
      "|0017|    Georgi|    Smith|1975-10-10| Germany|93aa53ab9b59fb422...|f880e3515a15b618f...|\n",
      "|0018|     Maria|      Doe|1981-08-13| Germany|488500947eaecc908...|d7f078bc63bf3b3f7...|\n",
      "|0019|      John|   Koleva|1984-05-10|Bulgaria|66539894c8b69c8b6...|2a1efb796f5d495e8...|\n",
      "|0020|      Jane|  Ivanova|1972-06-16| Belgium|874c06ecc187c90d2...|82f87c132467a4cb6...|\n",
      "+----+----------+---------+----------+--------+--------------------+--------------------+\n",
      "\n"
     ]
    }
   ],
   "source": [
    "anonymized_df.show()"
   ]
  },
  {
   "cell_type": "code",
   "execution_count": 17,
   "id": "814535e5-1534-417e-a8be-bea97f7938c8",
   "metadata": {},
   "outputs": [],
   "source": [
    "# 5. Трансформации и нови колони\n",
    "transformed_df = anonymized_df.withColumn(\"full_name\", concat_ws(\" \", col(\"first_name\"), col(\"last_name\"))) \\\n",
    "                              .drop(\"first_name\", \"last_name\")"
   ]
  },
  {
   "cell_type": "code",
   "execution_count": 19,
   "id": "5224d889-42b7-4d2e-b830-e0cd082bfbae",
   "metadata": {},
   "outputs": [
    {
     "name": "stdout",
     "output_type": "stream",
     "text": [
      "+----+----------+--------+--------------------+--------------------+-------------+\n",
      "|  id|birth_date| country|          email_hash|          phone_hash|    full_name|\n",
      "+----+----------+--------+--------------------+--------------------+-------------+\n",
      "|0001|1983-10-20| Germany|b36a83701f1c3191e...|a325ef9b3e751a3ed...| Jane Ivanova|\n",
      "|0002|1985-03-09|     USA|2b3b2b9ce842ab8b6...|f503ab29434ee000e...| Jane Ivanova|\n",
      "|0003|1983-04-22|     USA|898628e28890f937b...|f80350dfd9b2e2e19...|     Anna Doe|\n",
      "|0004|1999-02-23| Belgium|40d71d3f998c168e7...|e3fb8f506b7abfe4c...|  John Koleva|\n",
      "|0005|1991-07-04| Germany|4d8f4dd97e0c7b6fe...|659cbbe71279ae9a8...|  Ivan Petrov|\n",
      "|0006|1983-05-26| Belgium|b430419a8a3fa1ce5...|dae098253612e288f...|John Georgiev|\n",
      "|0007|1983-07-14| Germany|38121022af9b425b5...|dcdacfab6a9562d90...|  Ivan Petrov|\n",
      "|0008|1999-06-08| Ireland|675657c179a97bde8...|7f63b2656ffc159d6...|  Maria Smith|\n",
      "|0009|1990-09-03| Belgium|b1e700bec7b4c7c38...|2e26f42d072b80b3e...|  Jane Koleva|\n",
      "|0010|1990-12-27| Germany|1cc95683bbb5c4811...|9064f3c7e930708a7...|   Ivan Smith|\n",
      "|0011|1983-07-08| Ireland|69e6267c53626874a...|49322bd766fdbd251...| Jane Ivanova|\n",
      "|0012|1997-05-23|     USA|882ecc75a8c8ab735...|1a4c212de70d7c787...|  Anna Koleva|\n",
      "|0013|1990-08-24|     USA|f221e7d82b835de7b...|83a067c80413d7af9...|  Jane Petrov|\n",
      "|0014|1998-08-16|     USA|241b6d9462fcc1986...|9862606d4df70a6ad...|John Georgiev|\n",
      "|0015|1989-02-15| Germany|19e2f1dbc9e6c95e4...|a5b9b3d7135b253f4...|  Ivan Petrov|\n",
      "|0016|1994-10-22| Germany|67df3e41329159dd3...|a1c80197293d54fbd...| Jane Ivanova|\n",
      "|0017|1975-10-10| Germany|93aa53ab9b59fb422...|f880e3515a15b618f...| Georgi Smith|\n",
      "|0018|1981-08-13| Germany|488500947eaecc908...|d7f078bc63bf3b3f7...|    Maria Doe|\n",
      "|0019|1984-05-10|Bulgaria|66539894c8b69c8b6...|2a1efb796f5d495e8...|  John Koleva|\n",
      "|0020|1972-06-16| Belgium|874c06ecc187c90d2...|82f87c132467a4cb6...| Jane Ivanova|\n",
      "+----+----------+--------+--------------------+--------------------+-------------+\n",
      "\n"
     ]
    }
   ],
   "source": [
    "transformed_df.show()"
   ]
  },
  {
   "cell_type": "code",
   "execution_count": 23,
   "id": "deb2c9a9-08d4-49c6-a433-bcf3d25dec94",
   "metadata": {},
   "outputs": [],
   "source": [
    "# 6. Филтриране на данни (примерно за EU страни само)\n",
    "filtered_df = transformed_df.filter(col(\"country\").isin(\"Belgium\", \"Bulgaria\", \"Ireland\", \"Germany\"))"
   ]
  },
  {
   "cell_type": "code",
   "execution_count": 24,
   "id": "7fe185aa-76c8-4d03-b6fd-47f9f4cf4ebf",
   "metadata": {},
   "outputs": [
    {
     "name": "stdout",
     "output_type": "stream",
     "text": [
      "+----+----------+--------+--------------------+--------------------+-------------+\n",
      "|  id|birth_date| country|          email_hash|          phone_hash|    full_name|\n",
      "+----+----------+--------+--------------------+--------------------+-------------+\n",
      "|0001|1983-10-20| Germany|b36a83701f1c3191e...|a325ef9b3e751a3ed...| Jane Ivanova|\n",
      "|0004|1999-02-23| Belgium|40d71d3f998c168e7...|e3fb8f506b7abfe4c...|  John Koleva|\n",
      "|0005|1991-07-04| Germany|4d8f4dd97e0c7b6fe...|659cbbe71279ae9a8...|  Ivan Petrov|\n",
      "|0006|1983-05-26| Belgium|b430419a8a3fa1ce5...|dae098253612e288f...|John Georgiev|\n",
      "|0007|1983-07-14| Germany|38121022af9b425b5...|dcdacfab6a9562d90...|  Ivan Petrov|\n",
      "|0008|1999-06-08| Ireland|675657c179a97bde8...|7f63b2656ffc159d6...|  Maria Smith|\n",
      "|0009|1990-09-03| Belgium|b1e700bec7b4c7c38...|2e26f42d072b80b3e...|  Jane Koleva|\n",
      "|0010|1990-12-27| Germany|1cc95683bbb5c4811...|9064f3c7e930708a7...|   Ivan Smith|\n",
      "|0011|1983-07-08| Ireland|69e6267c53626874a...|49322bd766fdbd251...| Jane Ivanova|\n",
      "|0015|1989-02-15| Germany|19e2f1dbc9e6c95e4...|a5b9b3d7135b253f4...|  Ivan Petrov|\n",
      "|0016|1994-10-22| Germany|67df3e41329159dd3...|a1c80197293d54fbd...| Jane Ivanova|\n",
      "|0017|1975-10-10| Germany|93aa53ab9b59fb422...|f880e3515a15b618f...| Georgi Smith|\n",
      "|0018|1981-08-13| Germany|488500947eaecc908...|d7f078bc63bf3b3f7...|    Maria Doe|\n",
      "|0019|1984-05-10|Bulgaria|66539894c8b69c8b6...|2a1efb796f5d495e8...|  John Koleva|\n",
      "|0020|1972-06-16| Belgium|874c06ecc187c90d2...|82f87c132467a4cb6...| Jane Ivanova|\n",
      "+----+----------+--------+--------------------+--------------------+-------------+\n",
      "\n"
     ]
    }
   ],
   "source": [
    "filtered_df.show()"
   ]
  },
  {
   "cell_type": "code",
   "execution_count": null,
   "id": "35337ea4-ecf5-4c71-921d-d9f9b70170ee",
   "metadata": {},
   "outputs": [],
   "source": [
    "filtered_df.write.mode(\"overwrite\").json(\"C:/Users/User/Desktop/jupyter-etl-spark/customers/\")\n"
   ]
  },
  {
   "cell_type": "code",
   "execution_count": 31,
   "id": "f0374b98-1ad7-4c8e-8d03-943028add43b",
   "metadata": {},
   "outputs": [],
   "source": [
    "spark.stop()"
   ]
  },
  {
   "cell_type": "code",
   "execution_count": null,
   "id": "bd68f1dd-37c6-4238-93bd-0d10c2af7f98",
   "metadata": {},
   "outputs": [],
   "source": []
  }
 ],
 "metadata": {
  "kernelspec": {
   "display_name": "Python 3 (ipykernel)",
   "language": "python",
   "name": "python3"
  },
  "language_info": {
   "codemirror_mode": {
    "name": "ipython",
    "version": 3
   },
   "file_extension": ".py",
   "mimetype": "text/x-python",
   "name": "python",
   "nbconvert_exporter": "python",
   "pygments_lexer": "ipython3",
   "version": "3.11.5"
  }
 },
 "nbformat": 4,
 "nbformat_minor": 5
}
