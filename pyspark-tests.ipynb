{
 "cells": [
  {
   "cell_type": "code",
   "execution_count": 1,
   "id": "d9f64763-c6e1-4037-a940-ed3d40b68d41",
   "metadata": {},
   "outputs": [],
   "source": [
    "import pandas as pd\n",
    "import numpy as np\n",
    "\n",
    "import pyspark\n",
    "from pyspark.sql import SparkSession"
   ]
  },
  {
   "cell_type": "code",
   "execution_count": 2,
   "id": "4a2a36b2-df4b-4bd1-b5ec-b05594737347",
   "metadata": {},
   "outputs": [],
   "source": [
    "\n",
    "spark = SparkSession.builder.appName(\"Practice\").getOrCreate()"
   ]
  },
  {
   "cell_type": "code",
   "execution_count": 3,
   "id": "5ffb6398-c996-4bc0-b1a2-93af212833e9",
   "metadata": {},
   "outputs": [],
   "source": [
    "df_pyspark = spark.read.csv(\"selling_cars_list.csv\")\n",
    "df_cars = spark.read.option('header', 'true').csv('selling_cars_list.csv', inferSchema=True)"
   ]
  },
  {
   "cell_type": "code",
   "execution_count": 4,
   "id": "79372f83-fd63-4f46-9822-96be3e0f0f36",
   "metadata": {},
   "outputs": [
    {
     "name": "stdout",
     "output_type": "stream",
     "text": [
      "+--------------------+---------------+-------------+---------+------+-----------+------------+------------+----------+-------+----------+--------------------+-----+\n",
      "|                 _c0|            _c1|          _c2|      _c3|   _c4|        _c5|         _c6|         _c7|       _c8|    _c9|      _c10|                _c11| _c12|\n",
      "+--------------------+---------------+-------------+---------+------+-----------+------------+------------+----------+-------+----------+--------------------+-----+\n",
      "|                name|           year|selling_price|km_driven|  fuel|seller_type|transmission|       owner|   mileage| engine| max_power|              torque|seats|\n",
      "|Maruti Swift Dzir...|           2014|       450000|   145500|Diesel| Individual|      Manual| First Owner| 23.4 kmpl|1248 CC|    74 bhp|      190Nm@ 2000rpm|    5|\n",
      "|Skoda Rapid 1.5 T...|           2014|       370000|   120000|Diesel| Individual|      Manual|Second Owner|21.14 kmpl|1498 CC|103.52 bhp| 250Nm@ 1500-2500rpm|    5|\n",
      "|\"Honda City 2017-...|700(kgm@ rpm)\"\"|           5\"|     NULL|  NULL|       NULL|        NULL|        NULL|      NULL|   NULL|      NULL|                NULL| NULL|\n",
      "|Hyundai i20 Sport...|           2010|       225000|   127000|Diesel| Individual|      Manual| First Owner| 23.0 kmpl|1396 CC|    90 bhp|22.4 kgm at 1750-...|    5|\n",
      "|\"Maruti Swift VXI...|500(kgm@ rpm)\"\"|           5\"|     NULL|  NULL|       NULL|        NULL|        NULL|      NULL|   NULL|      NULL|                NULL| NULL|\n",
      "|Hyundai Xcent 1.2...|           2017|       440000|    45000|Petrol| Individual|      Manual| First Owner|20.14 kmpl|1197 CC| 81.86 bhp|   113.75nm@ 4000rpm|    5|\n",
      "|\"Maruti Wagon R L...|500(kgm@ rpm)\"\"|           5\"|     NULL|  NULL|       NULL|        NULL|        NULL|      NULL|   NULL|      NULL|                NULL| NULL|\n",
      "|  Maruti 800 DX BSII|           2001|        45000|     5000|Petrol| Individual|      Manual|Second Owner| 16.1 kmpl| 796 CC|    37 bhp|       59Nm@ 2500rpm|    4|\n",
      "|    Toyota Etios VXD|           2011|       350000|    90000|Diesel| Individual|      Manual| First Owner|23.59 kmpl|1364 CC|  67.1 bhp| 170Nm@ 1800-2400rpm|    5|\n",
      "|Ford Figo Diesel ...|           2013|       200000|   169000|Diesel| Individual|      Manual| First Owner| 20.0 kmpl|1399 CC|  68.1 bhp|      160Nm@ 2000rpm|    5|\n",
      "|Renault Duster 11...|           2014|       500000|    68000|Diesel| Individual|      Manual|Second Owner|19.01 kmpl|1461 CC|108.45 bhp|      248Nm@ 2250rpm|    5|\n",
      "|       Maruti Zen LX|           2005|        92000|   100000|Petrol| Individual|      Manual|Second Owner| 17.3 kmpl| 993 CC|    60 bhp|       78Nm@ 4500rpm|    5|\n",
      "|Maruti Swift Dzir...|           2009|       280000|   140000|Diesel| Individual|      Manual|Second Owner| 19.3 kmpl|1248 CC|  73.9 bhp|      190Nm@ 2000rpm|    5|\n",
      "|Maruti Swift 1.3 VXi|           2007|       200000|    80000|Petrol| Individual|      Manual|Second Owner|      NULL|   NULL|      NULL|                NULL| NULL|\n",
      "|Maruti Wagon R LX...|           2009|       180000|    90000|Petrol| Individual|      Manual|Second Owner| 18.9 kmpl|1061 CC|    67 bhp|       84Nm@ 3500rpm|    5|\n",
      "|Mahindra KUV 100 ...|           2016|       400000|    40000|Petrol| Individual|      Manual| First Owner|18.15 kmpl|1198 CC|    82 bhp| 115Nm@ 3500-3600rpm|    5|\n",
      "|Maruti Ertiga SHV...|           2016|       778000|    70000|Diesel| Individual|      Manual|Second Owner|24.52 kmpl|1248 CC|  88.5 bhp|      200Nm@ 1750rpm|    7|\n",
      "|Hyundai i20 1.4 C...|           2012|       500000|    53000|Diesel| Individual|      Manual|Second Owner| 23.0 kmpl|1396 CC|    90 bhp|22.4 kgm at 1750-...|    5|\n",
      "|      Maruti Alto LX|           2002|       150000|    80000|Petrol| Individual|      Manual|Second Owner| 19.7 kmpl| 796 CC|  46.3 bhp|       62Nm@ 3000rpm|    5|\n",
      "+--------------------+---------------+-------------+---------+------+-----------+------------+------------+----------+-------+----------+--------------------+-----+\n",
      "only showing top 20 rows\n",
      "\n"
     ]
    }
   ],
   "source": [
    "df_pyspark.show()"
   ]
  },
  {
   "cell_type": "code",
   "execution_count": 5,
   "id": "2525b9d1-169e-4045-9d0a-1b2a047bee03",
   "metadata": {},
   "outputs": [],
   "source": [
    "df_pyspark = spark.read.option('header', 'true').csv('selling_cars_list.csv', inferSchema=True)"
   ]
  },
  {
   "cell_type": "code",
   "execution_count": 6,
   "id": "dfa93568-87bf-4298-8867-bf1312beb3dc",
   "metadata": {},
   "outputs": [
    {
     "name": "stdout",
     "output_type": "stream",
     "text": [
      "root\n",
      " |-- name: string (nullable = true)\n",
      " |-- year: string (nullable = true)\n",
      " |-- selling_price: string (nullable = true)\n",
      " |-- km_driven: string (nullable = true)\n",
      " |-- fuel: string (nullable = true)\n",
      " |-- seller_type: string (nullable = true)\n",
      " |-- transmission: string (nullable = true)\n",
      " |-- owner: string (nullable = true)\n",
      " |-- mileage: string (nullable = true)\n",
      " |-- engine: string (nullable = true)\n",
      " |-- max_power: string (nullable = true)\n",
      " |-- torque: string (nullable = true)\n",
      " |-- seats: integer (nullable = true)\n",
      "\n"
     ]
    }
   ],
   "source": [
    "df_pyspark.printSchema()"
   ]
  },
  {
   "cell_type": "code",
   "execution_count": 7,
   "id": "b847facd-5fbc-472d-ad85-45bda9ccb3a8",
   "metadata": {},
   "outputs": [
    {
     "name": "stdout",
     "output_type": "stream",
     "text": [
      "+--------------------+---------------+-------------+---------+------+-----------+------------+------------+----------+-------+----------+--------------------+-----+\n",
      "|                name|           year|selling_price|km_driven|  fuel|seller_type|transmission|       owner|   mileage| engine| max_power|              torque|seats|\n",
      "+--------------------+---------------+-------------+---------+------+-----------+------------+------------+----------+-------+----------+--------------------+-----+\n",
      "|Maruti Swift Dzir...|           2014|       450000|   145500|Diesel| Individual|      Manual| First Owner| 23.4 kmpl|1248 CC|    74 bhp|      190Nm@ 2000rpm|    5|\n",
      "|Skoda Rapid 1.5 T...|           2014|       370000|   120000|Diesel| Individual|      Manual|Second Owner|21.14 kmpl|1498 CC|103.52 bhp| 250Nm@ 1500-2500rpm|    5|\n",
      "|\"Honda City 2017-...|700(kgm@ rpm)\"\"|           5\"|     NULL|  NULL|       NULL|        NULL|        NULL|      NULL|   NULL|      NULL|                NULL| NULL|\n",
      "|Hyundai i20 Sport...|           2010|       225000|   127000|Diesel| Individual|      Manual| First Owner| 23.0 kmpl|1396 CC|    90 bhp|22.4 kgm at 1750-...|    5|\n",
      "|\"Maruti Swift VXI...|500(kgm@ rpm)\"\"|           5\"|     NULL|  NULL|       NULL|        NULL|        NULL|      NULL|   NULL|      NULL|                NULL| NULL|\n",
      "|Hyundai Xcent 1.2...|           2017|       440000|    45000|Petrol| Individual|      Manual| First Owner|20.14 kmpl|1197 CC| 81.86 bhp|   113.75nm@ 4000rpm|    5|\n",
      "|\"Maruti Wagon R L...|500(kgm@ rpm)\"\"|           5\"|     NULL|  NULL|       NULL|        NULL|        NULL|      NULL|   NULL|      NULL|                NULL| NULL|\n",
      "|  Maruti 800 DX BSII|           2001|        45000|     5000|Petrol| Individual|      Manual|Second Owner| 16.1 kmpl| 796 CC|    37 bhp|       59Nm@ 2500rpm|    4|\n",
      "|    Toyota Etios VXD|           2011|       350000|    90000|Diesel| Individual|      Manual| First Owner|23.59 kmpl|1364 CC|  67.1 bhp| 170Nm@ 1800-2400rpm|    5|\n",
      "|Ford Figo Diesel ...|           2013|       200000|   169000|Diesel| Individual|      Manual| First Owner| 20.0 kmpl|1399 CC|  68.1 bhp|      160Nm@ 2000rpm|    5|\n",
      "|Renault Duster 11...|           2014|       500000|    68000|Diesel| Individual|      Manual|Second Owner|19.01 kmpl|1461 CC|108.45 bhp|      248Nm@ 2250rpm|    5|\n",
      "|       Maruti Zen LX|           2005|        92000|   100000|Petrol| Individual|      Manual|Second Owner| 17.3 kmpl| 993 CC|    60 bhp|       78Nm@ 4500rpm|    5|\n",
      "|Maruti Swift Dzir...|           2009|       280000|   140000|Diesel| Individual|      Manual|Second Owner| 19.3 kmpl|1248 CC|  73.9 bhp|      190Nm@ 2000rpm|    5|\n",
      "|Maruti Swift 1.3 VXi|           2007|       200000|    80000|Petrol| Individual|      Manual|Second Owner|      NULL|   NULL|      NULL|                NULL| NULL|\n",
      "|Maruti Wagon R LX...|           2009|       180000|    90000|Petrol| Individual|      Manual|Second Owner| 18.9 kmpl|1061 CC|    67 bhp|       84Nm@ 3500rpm|    5|\n",
      "|Mahindra KUV 100 ...|           2016|       400000|    40000|Petrol| Individual|      Manual| First Owner|18.15 kmpl|1198 CC|    82 bhp| 115Nm@ 3500-3600rpm|    5|\n",
      "|Maruti Ertiga SHV...|           2016|       778000|    70000|Diesel| Individual|      Manual|Second Owner|24.52 kmpl|1248 CC|  88.5 bhp|      200Nm@ 1750rpm|    7|\n",
      "|Hyundai i20 1.4 C...|           2012|       500000|    53000|Diesel| Individual|      Manual|Second Owner| 23.0 kmpl|1396 CC|    90 bhp|22.4 kgm at 1750-...|    5|\n",
      "|      Maruti Alto LX|           2002|       150000|    80000|Petrol| Individual|      Manual|Second Owner| 19.7 kmpl| 796 CC|  46.3 bhp|       62Nm@ 3000rpm|    5|\n",
      "|Hyundai i20 2015-...|           2016|       680000|   100000|Diesel| Individual|      Manual| First Owner|22.54 kmpl|1396 CC| 88.73 bhp|219.7Nm@ 1500-275...|    5|\n",
      "+--------------------+---------------+-------------+---------+------+-----------+------------+------------+----------+-------+----------+--------------------+-----+\n",
      "only showing top 20 rows\n",
      "\n"
     ]
    }
   ],
   "source": [
    "df_pyspark.show()"
   ]
  },
  {
   "cell_type": "code",
   "execution_count": 8,
   "id": "e0d018e4-a9a5-4d0c-ad68-a94a81026f18",
   "metadata": {},
   "outputs": [
    {
     "data": {
      "text/plain": [
       "pyspark.sql.dataframe.DataFrame"
      ]
     },
     "execution_count": 8,
     "metadata": {},
     "output_type": "execute_result"
    }
   ],
   "source": [
    "type(df_pyspark)"
   ]
  },
  {
   "cell_type": "code",
   "execution_count": 9,
   "id": "4aed0344-bfd6-4f7d-9798-eb52fd397aed",
   "metadata": {},
   "outputs": [
    {
     "data": {
      "text/plain": [
       "['name',\n",
       " 'year',\n",
       " 'selling_price',\n",
       " 'km_driven',\n",
       " 'fuel',\n",
       " 'seller_type',\n",
       " 'transmission',\n",
       " 'owner',\n",
       " 'mileage',\n",
       " 'engine',\n",
       " 'max_power',\n",
       " 'torque',\n",
       " 'seats']"
      ]
     },
     "execution_count": 9,
     "metadata": {},
     "output_type": "execute_result"
    }
   ],
   "source": [
    "df_pyspark.columns"
   ]
  },
  {
   "cell_type": "code",
   "execution_count": 10,
   "id": "6a8edd69-5c74-418f-9377-d6e4bb8d15ff",
   "metadata": {},
   "outputs": [
    {
     "data": {
      "text/plain": [
       "[Row(name='Maruti Swift Dzire VDI', year='2014', selling_price='450000', km_driven='145500', fuel='Diesel', seller_type='Individual', transmission='Manual', owner='First Owner', mileage='23.4 kmpl', engine='1248 CC', max_power='74 bhp', torque='190Nm@ 2000rpm', seats=5),\n",
       " Row(name='Skoda Rapid 1.5 TDI Ambition', year='2014', selling_price='370000', km_driven='120000', fuel='Diesel', seller_type='Individual', transmission='Manual', owner='Second Owner', mileage='21.14 kmpl', engine='1498 CC', max_power='103.52 bhp', torque='250Nm@ 1500-2500rpm', seats=5),\n",
       " Row(name='\"Honda City 2017-2020 EXi,2006,158000,140000,Petrol,Individual,Manual,Third Owner,17.7 kmpl,1497 CC,78 bhp,\"\"12.7@ 2', year='700(kgm@ rpm)\"\"', selling_price='5\"', km_driven=None, fuel=None, seller_type=None, transmission=None, owner=None, mileage=None, engine=None, max_power=None, torque=None, seats=None)]"
      ]
     },
     "execution_count": 10,
     "metadata": {},
     "output_type": "execute_result"
    }
   ],
   "source": [
    "df_pyspark.head(3)"
   ]
  },
  {
   "cell_type": "code",
   "execution_count": 11,
   "id": "1ea8466a-680e-4e11-960d-f1615429feb1",
   "metadata": {},
   "outputs": [
    {
     "data": {
      "text/plain": [
       "DataFrame[name: string, max_power: string]"
      ]
     },
     "execution_count": 11,
     "metadata": {},
     "output_type": "execute_result"
    }
   ],
   "source": [
    "df_pyspark.select([\"name\",\"max_power\"])\n"
   ]
  },
  {
   "cell_type": "code",
   "execution_count": 12,
   "id": "a3a43a1b-ca1a-4fca-9052-e362a18321c5",
   "metadata": {},
   "outputs": [
    {
     "name": "stdout",
     "output_type": "stream",
     "text": [
      "+--------------------+----------+---------+\n",
      "|                name| max_power|km_driven|\n",
      "+--------------------+----------+---------+\n",
      "|Maruti Swift Dzir...|    74 bhp|   145500|\n",
      "|Skoda Rapid 1.5 T...|103.52 bhp|   120000|\n",
      "|\"Honda City 2017-...|      NULL|     NULL|\n",
      "|Hyundai i20 Sport...|    90 bhp|   127000|\n",
      "|\"Maruti Swift VXI...|      NULL|     NULL|\n",
      "|Hyundai Xcent 1.2...| 81.86 bhp|    45000|\n",
      "|\"Maruti Wagon R L...|      NULL|     NULL|\n",
      "|  Maruti 800 DX BSII|    37 bhp|     5000|\n",
      "|    Toyota Etios VXD|  67.1 bhp|    90000|\n",
      "|Ford Figo Diesel ...|  68.1 bhp|   169000|\n",
      "|Renault Duster 11...|108.45 bhp|    68000|\n",
      "|       Maruti Zen LX|    60 bhp|   100000|\n",
      "|Maruti Swift Dzir...|  73.9 bhp|   140000|\n",
      "|Maruti Swift 1.3 VXi|      NULL|    80000|\n",
      "|Maruti Wagon R LX...|    67 bhp|    90000|\n",
      "|Mahindra KUV 100 ...|    82 bhp|    40000|\n",
      "|Maruti Ertiga SHV...|  88.5 bhp|    70000|\n",
      "|Hyundai i20 1.4 C...|    90 bhp|    53000|\n",
      "|      Maruti Alto LX|  46.3 bhp|    80000|\n",
      "|Hyundai i20 2015-...| 88.73 bhp|   100000|\n",
      "+--------------------+----------+---------+\n",
      "only showing top 20 rows\n",
      "\n"
     ]
    }
   ],
   "source": [
    "df_pyspark.select([\"name\",\"max_power\",\"km_driven\"]).show()"
   ]
  },
  {
   "cell_type": "code",
   "execution_count": 13,
   "id": "4e79e7a2-25b0-452e-aec8-0bccba2f9f15",
   "metadata": {},
   "outputs": [
    {
     "data": {
      "text/plain": [
       "[('name', 'string'),\n",
       " ('year', 'string'),\n",
       " ('selling_price', 'string'),\n",
       " ('km_driven', 'string'),\n",
       " ('fuel', 'string'),\n",
       " ('seller_type', 'string'),\n",
       " ('transmission', 'string'),\n",
       " ('owner', 'string'),\n",
       " ('mileage', 'string'),\n",
       " ('engine', 'string'),\n",
       " ('max_power', 'string'),\n",
       " ('torque', 'string'),\n",
       " ('seats', 'int')]"
      ]
     },
     "execution_count": 13,
     "metadata": {},
     "output_type": "execute_result"
    }
   ],
   "source": [
    "df_pyspark.dtypes"
   ]
  },
  {
   "cell_type": "code",
   "execution_count": 14,
   "id": "73d18332-a89e-4971-8267-2cb8ce7d27b5",
   "metadata": {},
   "outputs": [
    {
     "data": {
      "text/plain": [
       "DataFrame[summary: string, name: string, year: string, selling_price: string, km_driven: string, fuel: string, seller_type: string, transmission: string, owner: string, mileage: string, engine: string, max_power: string, torque: string, seats: string]"
      ]
     },
     "execution_count": 14,
     "metadata": {},
     "output_type": "execute_result"
    }
   ],
   "source": [
    "df_pyspark.describe()"
   ]
  },
  {
   "cell_type": "code",
   "execution_count": 15,
   "id": "dd75f53a-6380-41a3-8f8c-e979290e7978",
   "metadata": {},
   "outputs": [
    {
     "name": "stdout",
     "output_type": "stream",
     "text": [
      "+-------+--------------------+------------------+-----------------+-----------------+------+----------------+------------+-----------+--------+-------+---------+--------------+-----------------+\n",
      "|summary|                name|              year|    selling_price|        km_driven|  fuel|     seller_type|transmission|      owner| mileage| engine|max_power|        torque|            seats|\n",
      "+-------+--------------------+------------------+-----------------+-----------------+------+----------------+------------+-----------+--------+-------+---------+--------------+-----------------+\n",
      "|  count|                8127|              8127|             8127|             7836|  7786|            7786|        7786|       7786|    7565|   7565|     7571|          7565|             7565|\n",
      "|   mean|                NULL|2014.0559979450295|656771.5358335474|68402.57397893655|  NULL|            NULL|        NULL|       NULL|    NULL|   NULL|      0.0|          NULL|5.421943159286187|\n",
      "| stddev|                NULL|3.9083854139681184|817445.1548889049|56636.91820093501|  NULL|            NULL|        NULL|       NULL|    NULL|   NULL|      0.0|          NULL|0.954764655159725|\n",
      "|    min|\"Audi A4 1.8 TFSI...|         000 rpm\"\"|        000 rpm\"\"|                1|   CNG|          Dealer|   Automatic|First Owner|0.0 kmpl|1047 CC|        0|100Nm@ 2700rpm|                2|\n",
      "|    max|Volvo XC90 T8 Exc...|             950-4|           999000|            99500|Petrol|Trustmark Dealer|      Manual|Third Owner|9.5 kmpl| 999 CC| 99.6 bhp| 99Nm@ 4500rpm|               14|\n",
      "+-------+--------------------+------------------+-----------------+-----------------+------+----------------+------------+-----------+--------+-------+---------+--------------+-----------------+\n",
      "\n"
     ]
    }
   ],
   "source": [
    "df_pyspark.describe().show()"
   ]
  },
  {
   "cell_type": "code",
   "execution_count": 16,
   "id": "46b2e160-0e40-4ab7-b674-07050b78bdca",
   "metadata": {},
   "outputs": [
    {
     "name": "stdout",
     "output_type": "stream",
     "text": [
      "+--------------------+---------------+-------------+---------+------+-----------+------------+------------+----------+-------+----------+--------------------+-----+----------------------+\n",
      "|                name|           year|selling_price|km_driven|  fuel|seller_type|transmission|       owner|   mileage| engine| max_power|              torque|seats|selling_price_with_tax|\n",
      "+--------------------+---------------+-------------+---------+------+-----------+------------+------------+----------+-------+----------+--------------------+-----+----------------------+\n",
      "|Maruti Swift Dzir...|           2014|       450000|   145500|Diesel| Individual|      Manual| First Owner| 23.4 kmpl|1248 CC|    74 bhp|      190Nm@ 2000rpm|    5|              450200.0|\n",
      "|Skoda Rapid 1.5 T...|           2014|       370000|   120000|Diesel| Individual|      Manual|Second Owner|21.14 kmpl|1498 CC|103.52 bhp| 250Nm@ 1500-2500rpm|    5|              370200.0|\n",
      "|\"Honda City 2017-...|700(kgm@ rpm)\"\"|           5\"|     NULL|  NULL|       NULL|        NULL|        NULL|      NULL|   NULL|      NULL|                NULL| NULL|                  NULL|\n",
      "|Hyundai i20 Sport...|           2010|       225000|   127000|Diesel| Individual|      Manual| First Owner| 23.0 kmpl|1396 CC|    90 bhp|22.4 kgm at 1750-...|    5|              225200.0|\n",
      "|\"Maruti Swift VXI...|500(kgm@ rpm)\"\"|           5\"|     NULL|  NULL|       NULL|        NULL|        NULL|      NULL|   NULL|      NULL|                NULL| NULL|                  NULL|\n",
      "|Hyundai Xcent 1.2...|           2017|       440000|    45000|Petrol| Individual|      Manual| First Owner|20.14 kmpl|1197 CC| 81.86 bhp|   113.75nm@ 4000rpm|    5|              440200.0|\n",
      "|\"Maruti Wagon R L...|500(kgm@ rpm)\"\"|           5\"|     NULL|  NULL|       NULL|        NULL|        NULL|      NULL|   NULL|      NULL|                NULL| NULL|                  NULL|\n",
      "|  Maruti 800 DX BSII|           2001|        45000|     5000|Petrol| Individual|      Manual|Second Owner| 16.1 kmpl| 796 CC|    37 bhp|       59Nm@ 2500rpm|    4|               45200.0|\n",
      "|    Toyota Etios VXD|           2011|       350000|    90000|Diesel| Individual|      Manual| First Owner|23.59 kmpl|1364 CC|  67.1 bhp| 170Nm@ 1800-2400rpm|    5|              350200.0|\n",
      "|Ford Figo Diesel ...|           2013|       200000|   169000|Diesel| Individual|      Manual| First Owner| 20.0 kmpl|1399 CC|  68.1 bhp|      160Nm@ 2000rpm|    5|              200200.0|\n",
      "|Renault Duster 11...|           2014|       500000|    68000|Diesel| Individual|      Manual|Second Owner|19.01 kmpl|1461 CC|108.45 bhp|      248Nm@ 2250rpm|    5|              500200.0|\n",
      "|       Maruti Zen LX|           2005|        92000|   100000|Petrol| Individual|      Manual|Second Owner| 17.3 kmpl| 993 CC|    60 bhp|       78Nm@ 4500rpm|    5|               92200.0|\n",
      "|Maruti Swift Dzir...|           2009|       280000|   140000|Diesel| Individual|      Manual|Second Owner| 19.3 kmpl|1248 CC|  73.9 bhp|      190Nm@ 2000rpm|    5|              280200.0|\n",
      "|Maruti Swift 1.3 VXi|           2007|       200000|    80000|Petrol| Individual|      Manual|Second Owner|      NULL|   NULL|      NULL|                NULL| NULL|              200200.0|\n",
      "|Maruti Wagon R LX...|           2009|       180000|    90000|Petrol| Individual|      Manual|Second Owner| 18.9 kmpl|1061 CC|    67 bhp|       84Nm@ 3500rpm|    5|              180200.0|\n",
      "|Mahindra KUV 100 ...|           2016|       400000|    40000|Petrol| Individual|      Manual| First Owner|18.15 kmpl|1198 CC|    82 bhp| 115Nm@ 3500-3600rpm|    5|              400200.0|\n",
      "|Maruti Ertiga SHV...|           2016|       778000|    70000|Diesel| Individual|      Manual|Second Owner|24.52 kmpl|1248 CC|  88.5 bhp|      200Nm@ 1750rpm|    7|              778200.0|\n",
      "|Hyundai i20 1.4 C...|           2012|       500000|    53000|Diesel| Individual|      Manual|Second Owner| 23.0 kmpl|1396 CC|    90 bhp|22.4 kgm at 1750-...|    5|              500200.0|\n",
      "|      Maruti Alto LX|           2002|       150000|    80000|Petrol| Individual|      Manual|Second Owner| 19.7 kmpl| 796 CC|  46.3 bhp|       62Nm@ 3000rpm|    5|              150200.0|\n",
      "|Hyundai i20 2015-...|           2016|       680000|   100000|Diesel| Individual|      Manual| First Owner|22.54 kmpl|1396 CC| 88.73 bhp|219.7Nm@ 1500-275...|    5|              680200.0|\n",
      "+--------------------+---------------+-------------+---------+------+-----------+------------+------------+----------+-------+----------+--------------------+-----+----------------------+\n",
      "only showing top 20 rows\n",
      "\n"
     ]
    }
   ],
   "source": [
    "## Adding Columns in data frame\n",
    "df_pyspark.withColumn('selling_price_with_tax', df_pyspark['selling_price'] + 200).show()"
   ]
  },
  {
   "cell_type": "code",
   "execution_count": 17,
   "id": "1aa14612-184e-414a-9b45-cb268950ee96",
   "metadata": {},
   "outputs": [],
   "source": [
    "## Drop columns\n",
    "df_pyspark=df_pyspark.drop('seller_type')"
   ]
  },
  {
   "cell_type": "code",
   "execution_count": 18,
   "id": "dcb686ed-5549-4ed2-a55b-a206d256f8fb",
   "metadata": {},
   "outputs": [
    {
     "name": "stdout",
     "output_type": "stream",
     "text": [
      "+--------------------+---------------+-------------+---------+------+------------+------------+----------+-------+----------+--------------------+-----+\n",
      "|                name|           year|selling_price|km_driven|  fuel|transmission|       owner|   mileage| engine| max_power|              torque|seats|\n",
      "+--------------------+---------------+-------------+---------+------+------------+------------+----------+-------+----------+--------------------+-----+\n",
      "|Maruti Swift Dzir...|           2014|       450000|   145500|Diesel|      Manual| First Owner| 23.4 kmpl|1248 CC|    74 bhp|      190Nm@ 2000rpm|    5|\n",
      "|Skoda Rapid 1.5 T...|           2014|       370000|   120000|Diesel|      Manual|Second Owner|21.14 kmpl|1498 CC|103.52 bhp| 250Nm@ 1500-2500rpm|    5|\n",
      "|\"Honda City 2017-...|700(kgm@ rpm)\"\"|           5\"|     NULL|  NULL|        NULL|        NULL|      NULL|   NULL|      NULL|                NULL| NULL|\n",
      "|Hyundai i20 Sport...|           2010|       225000|   127000|Diesel|      Manual| First Owner| 23.0 kmpl|1396 CC|    90 bhp|22.4 kgm at 1750-...|    5|\n",
      "|\"Maruti Swift VXI...|500(kgm@ rpm)\"\"|           5\"|     NULL|  NULL|        NULL|        NULL|      NULL|   NULL|      NULL|                NULL| NULL|\n",
      "|Hyundai Xcent 1.2...|           2017|       440000|    45000|Petrol|      Manual| First Owner|20.14 kmpl|1197 CC| 81.86 bhp|   113.75nm@ 4000rpm|    5|\n",
      "|\"Maruti Wagon R L...|500(kgm@ rpm)\"\"|           5\"|     NULL|  NULL|        NULL|        NULL|      NULL|   NULL|      NULL|                NULL| NULL|\n",
      "|  Maruti 800 DX BSII|           2001|        45000|     5000|Petrol|      Manual|Second Owner| 16.1 kmpl| 796 CC|    37 bhp|       59Nm@ 2500rpm|    4|\n",
      "|    Toyota Etios VXD|           2011|       350000|    90000|Diesel|      Manual| First Owner|23.59 kmpl|1364 CC|  67.1 bhp| 170Nm@ 1800-2400rpm|    5|\n",
      "|Ford Figo Diesel ...|           2013|       200000|   169000|Diesel|      Manual| First Owner| 20.0 kmpl|1399 CC|  68.1 bhp|      160Nm@ 2000rpm|    5|\n",
      "|Renault Duster 11...|           2014|       500000|    68000|Diesel|      Manual|Second Owner|19.01 kmpl|1461 CC|108.45 bhp|      248Nm@ 2250rpm|    5|\n",
      "|       Maruti Zen LX|           2005|        92000|   100000|Petrol|      Manual|Second Owner| 17.3 kmpl| 993 CC|    60 bhp|       78Nm@ 4500rpm|    5|\n",
      "|Maruti Swift Dzir...|           2009|       280000|   140000|Diesel|      Manual|Second Owner| 19.3 kmpl|1248 CC|  73.9 bhp|      190Nm@ 2000rpm|    5|\n",
      "|Maruti Swift 1.3 VXi|           2007|       200000|    80000|Petrol|      Manual|Second Owner|      NULL|   NULL|      NULL|                NULL| NULL|\n",
      "|Maruti Wagon R LX...|           2009|       180000|    90000|Petrol|      Manual|Second Owner| 18.9 kmpl|1061 CC|    67 bhp|       84Nm@ 3500rpm|    5|\n",
      "|Mahindra KUV 100 ...|           2016|       400000|    40000|Petrol|      Manual| First Owner|18.15 kmpl|1198 CC|    82 bhp| 115Nm@ 3500-3600rpm|    5|\n",
      "|Maruti Ertiga SHV...|           2016|       778000|    70000|Diesel|      Manual|Second Owner|24.52 kmpl|1248 CC|  88.5 bhp|      200Nm@ 1750rpm|    7|\n",
      "|Hyundai i20 1.4 C...|           2012|       500000|    53000|Diesel|      Manual|Second Owner| 23.0 kmpl|1396 CC|    90 bhp|22.4 kgm at 1750-...|    5|\n",
      "|      Maruti Alto LX|           2002|       150000|    80000|Petrol|      Manual|Second Owner| 19.7 kmpl| 796 CC|  46.3 bhp|       62Nm@ 3000rpm|    5|\n",
      "|Hyundai i20 2015-...|           2016|       680000|   100000|Diesel|      Manual| First Owner|22.54 kmpl|1396 CC| 88.73 bhp|219.7Nm@ 1500-275...|    5|\n",
      "+--------------------+---------------+-------------+---------+------+------------+------------+----------+-------+----------+--------------------+-----+\n",
      "only showing top 20 rows\n",
      "\n"
     ]
    }
   ],
   "source": [
    "df_pyspark.show()"
   ]
  },
  {
   "cell_type": "code",
   "execution_count": 19,
   "id": "5c18e4ed-1f77-45c6-9dc3-7d4d14339d75",
   "metadata": {},
   "outputs": [
    {
     "name": "stdout",
     "output_type": "stream",
     "text": [
      "+--------------------+---------------+-------------+---------+------+------------+------------+----------+-------+----------+--------------------+-----+\n",
      "|                Name|           year|selling_price|km_driven|  fuel|transmission|       owner|   mileage| engine| max_power|              torque|seats|\n",
      "+--------------------+---------------+-------------+---------+------+------------+------------+----------+-------+----------+--------------------+-----+\n",
      "|Maruti Swift Dzir...|           2014|       450000|   145500|Diesel|      Manual| First Owner| 23.4 kmpl|1248 CC|    74 bhp|      190Nm@ 2000rpm|    5|\n",
      "|Skoda Rapid 1.5 T...|           2014|       370000|   120000|Diesel|      Manual|Second Owner|21.14 kmpl|1498 CC|103.52 bhp| 250Nm@ 1500-2500rpm|    5|\n",
      "|\"Honda City 2017-...|700(kgm@ rpm)\"\"|           5\"|     NULL|  NULL|        NULL|        NULL|      NULL|   NULL|      NULL|                NULL| NULL|\n",
      "|Hyundai i20 Sport...|           2010|       225000|   127000|Diesel|      Manual| First Owner| 23.0 kmpl|1396 CC|    90 bhp|22.4 kgm at 1750-...|    5|\n",
      "|\"Maruti Swift VXI...|500(kgm@ rpm)\"\"|           5\"|     NULL|  NULL|        NULL|        NULL|      NULL|   NULL|      NULL|                NULL| NULL|\n",
      "|Hyundai Xcent 1.2...|           2017|       440000|    45000|Petrol|      Manual| First Owner|20.14 kmpl|1197 CC| 81.86 bhp|   113.75nm@ 4000rpm|    5|\n",
      "|\"Maruti Wagon R L...|500(kgm@ rpm)\"\"|           5\"|     NULL|  NULL|        NULL|        NULL|      NULL|   NULL|      NULL|                NULL| NULL|\n",
      "|  Maruti 800 DX BSII|           2001|        45000|     5000|Petrol|      Manual|Second Owner| 16.1 kmpl| 796 CC|    37 bhp|       59Nm@ 2500rpm|    4|\n",
      "|    Toyota Etios VXD|           2011|       350000|    90000|Diesel|      Manual| First Owner|23.59 kmpl|1364 CC|  67.1 bhp| 170Nm@ 1800-2400rpm|    5|\n",
      "|Ford Figo Diesel ...|           2013|       200000|   169000|Diesel|      Manual| First Owner| 20.0 kmpl|1399 CC|  68.1 bhp|      160Nm@ 2000rpm|    5|\n",
      "|Renault Duster 11...|           2014|       500000|    68000|Diesel|      Manual|Second Owner|19.01 kmpl|1461 CC|108.45 bhp|      248Nm@ 2250rpm|    5|\n",
      "|       Maruti Zen LX|           2005|        92000|   100000|Petrol|      Manual|Second Owner| 17.3 kmpl| 993 CC|    60 bhp|       78Nm@ 4500rpm|    5|\n",
      "|Maruti Swift Dzir...|           2009|       280000|   140000|Diesel|      Manual|Second Owner| 19.3 kmpl|1248 CC|  73.9 bhp|      190Nm@ 2000rpm|    5|\n",
      "|Maruti Swift 1.3 VXi|           2007|       200000|    80000|Petrol|      Manual|Second Owner|      NULL|   NULL|      NULL|                NULL| NULL|\n",
      "|Maruti Wagon R LX...|           2009|       180000|    90000|Petrol|      Manual|Second Owner| 18.9 kmpl|1061 CC|    67 bhp|       84Nm@ 3500rpm|    5|\n",
      "|Mahindra KUV 100 ...|           2016|       400000|    40000|Petrol|      Manual| First Owner|18.15 kmpl|1198 CC|    82 bhp| 115Nm@ 3500-3600rpm|    5|\n",
      "|Maruti Ertiga SHV...|           2016|       778000|    70000|Diesel|      Manual|Second Owner|24.52 kmpl|1248 CC|  88.5 bhp|      200Nm@ 1750rpm|    7|\n",
      "|Hyundai i20 1.4 C...|           2012|       500000|    53000|Diesel|      Manual|Second Owner| 23.0 kmpl|1396 CC|    90 bhp|22.4 kgm at 1750-...|    5|\n",
      "|      Maruti Alto LX|           2002|       150000|    80000|Petrol|      Manual|Second Owner| 19.7 kmpl| 796 CC|  46.3 bhp|       62Nm@ 3000rpm|    5|\n",
      "|Hyundai i20 2015-...|           2016|       680000|   100000|Diesel|      Manual| First Owner|22.54 kmpl|1396 CC| 88.73 bhp|219.7Nm@ 1500-275...|    5|\n",
      "+--------------------+---------------+-------------+---------+------+------------+------------+----------+-------+----------+--------------------+-----+\n",
      "only showing top 20 rows\n",
      "\n"
     ]
    }
   ],
   "source": [
    "## Rename columns\n",
    "df_pyspark.withColumnRenamed(\"name\", \"Name\").show()"
   ]
  },
  {
   "cell_type": "code",
   "execution_count": 20,
   "id": "4fefb4a8-7bea-4606-b65e-155cb5fd7848",
   "metadata": {},
   "outputs": [
    {
     "name": "stdout",
     "output_type": "stream",
     "text": [
      "+-------+--------------------+------------------+-----------------+-----------------+------+------------+-----------+--------+-------+---------+--------------+-----------------+\n",
      "|summary|                name|              year|    selling_price|        km_driven|  fuel|transmission|      owner| mileage| engine|max_power|        torque|            seats|\n",
      "+-------+--------------------+------------------+-----------------+-----------------+------+------------+-----------+--------+-------+---------+--------------+-----------------+\n",
      "|  count|                8127|              8127|             8127|             7836|  7786|        7786|       7786|    7565|   7565|     7571|          7565|             7565|\n",
      "|   mean|                NULL|2014.0559979450295|656771.5358335474|68402.57397893655|  NULL|        NULL|       NULL|    NULL|   NULL|      0.0|          NULL|5.421943159286187|\n",
      "| stddev|                NULL|3.9083854139681184|817445.1548889049|56636.91820093501|  NULL|        NULL|       NULL|    NULL|   NULL|      0.0|          NULL|0.954764655159725|\n",
      "|    min|\"Audi A4 1.8 TFSI...|         000 rpm\"\"|        000 rpm\"\"|                1|   CNG|   Automatic|First Owner|0.0 kmpl|1047 CC|        0|100Nm@ 2700rpm|                2|\n",
      "|    max|Volvo XC90 T8 Exc...|             950-4|           999000|            99500|Petrol|      Manual|Third Owner|9.5 kmpl| 999 CC| 99.6 bhp| 99Nm@ 4500rpm|               14|\n",
      "+-------+--------------------+------------------+-----------------+-----------------+------+------------+-----------+--------+-------+---------+--------------+-----------------+\n",
      "\n"
     ]
    }
   ],
   "source": [
    "\n",
    "df_pyspark.describe().show()"
   ]
  },
  {
   "cell_type": "code",
   "execution_count": 21,
   "id": "7532bf02-6295-426f-b269-e65d9e7fdfe8",
   "metadata": {},
   "outputs": [
    {
     "name": "stdout",
     "output_type": "stream",
     "text": [
      "+--------------------+----+-------------+---------+------+------------+------------+----------+-------+----------+--------------------+-----+\n",
      "|                name|year|selling_price|km_driven|  fuel|transmission|       owner|   mileage| engine| max_power|              torque|seats|\n",
      "+--------------------+----+-------------+---------+------+------------+------------+----------+-------+----------+--------------------+-----+\n",
      "|Maruti Swift Dzir...|2014|       450000|   145500|Diesel|      Manual| First Owner| 23.4 kmpl|1248 CC|    74 bhp|      190Nm@ 2000rpm|    5|\n",
      "|Skoda Rapid 1.5 T...|2014|       370000|   120000|Diesel|      Manual|Second Owner|21.14 kmpl|1498 CC|103.52 bhp| 250Nm@ 1500-2500rpm|    5|\n",
      "|Hyundai i20 Sport...|2010|       225000|   127000|Diesel|      Manual| First Owner| 23.0 kmpl|1396 CC|    90 bhp|22.4 kgm at 1750-...|    5|\n",
      "|Hyundai Xcent 1.2...|2017|       440000|    45000|Petrol|      Manual| First Owner|20.14 kmpl|1197 CC| 81.86 bhp|   113.75nm@ 4000rpm|    5|\n",
      "|  Maruti 800 DX BSII|2001|        45000|     5000|Petrol|      Manual|Second Owner| 16.1 kmpl| 796 CC|    37 bhp|       59Nm@ 2500rpm|    4|\n",
      "|    Toyota Etios VXD|2011|       350000|    90000|Diesel|      Manual| First Owner|23.59 kmpl|1364 CC|  67.1 bhp| 170Nm@ 1800-2400rpm|    5|\n",
      "|Ford Figo Diesel ...|2013|       200000|   169000|Diesel|      Manual| First Owner| 20.0 kmpl|1399 CC|  68.1 bhp|      160Nm@ 2000rpm|    5|\n",
      "|Renault Duster 11...|2014|       500000|    68000|Diesel|      Manual|Second Owner|19.01 kmpl|1461 CC|108.45 bhp|      248Nm@ 2250rpm|    5|\n",
      "|       Maruti Zen LX|2005|        92000|   100000|Petrol|      Manual|Second Owner| 17.3 kmpl| 993 CC|    60 bhp|       78Nm@ 4500rpm|    5|\n",
      "|Maruti Swift Dzir...|2009|       280000|   140000|Diesel|      Manual|Second Owner| 19.3 kmpl|1248 CC|  73.9 bhp|      190Nm@ 2000rpm|    5|\n",
      "|Maruti Wagon R LX...|2009|       180000|    90000|Petrol|      Manual|Second Owner| 18.9 kmpl|1061 CC|    67 bhp|       84Nm@ 3500rpm|    5|\n",
      "|Mahindra KUV 100 ...|2016|       400000|    40000|Petrol|      Manual| First Owner|18.15 kmpl|1198 CC|    82 bhp| 115Nm@ 3500-3600rpm|    5|\n",
      "|Maruti Ertiga SHV...|2016|       778000|    70000|Diesel|      Manual|Second Owner|24.52 kmpl|1248 CC|  88.5 bhp|      200Nm@ 1750rpm|    7|\n",
      "|Hyundai i20 1.4 C...|2012|       500000|    53000|Diesel|      Manual|Second Owner| 23.0 kmpl|1396 CC|    90 bhp|22.4 kgm at 1750-...|    5|\n",
      "|      Maruti Alto LX|2002|       150000|    80000|Petrol|      Manual|Second Owner| 19.7 kmpl| 796 CC|  46.3 bhp|       62Nm@ 3000rpm|    5|\n",
      "|Hyundai i20 2015-...|2016|       680000|   100000|Diesel|      Manual| First Owner|22.54 kmpl|1396 CC| 88.73 bhp|219.7Nm@ 1500-275...|    5|\n",
      "|Mahindra Verito 1...|2011|       174000|   100000|Diesel|      Manual|Second Owner| 21.0 kmpl|1461 CC|  64.1 bhp|      160Nm@ 2000rpm|    5|\n",
      "|Honda WR-V i-DTEC VX|2017|       950000|    50000|Diesel|      Manual| First Owner| 25.5 kmpl|1498 CC|  98.6 bhp|      200Nm@ 1750rpm|    5|\n",
      "|Maruti Swift Dzir...|2015|       525000|    40000|Diesel|      Manual| First Owner|26.59 kmpl|1248 CC|    74 bhp|      190Nm@ 2000rpm|    5|\n",
      "|      Maruti SX4 ZDI|2012|       600000|    72000|Diesel|      Manual| First Owner| 21.5 kmpl|1248 CC|  88.8 bhp|      200Nm@ 1750rpm|    5|\n",
      "+--------------------+----+-------------+---------+------+------------+------------+----------+-------+----------+--------------------+-----+\n",
      "only showing top 20 rows\n",
      "\n"
     ]
    }
   ],
   "source": [
    "## drop null values\n",
    "df_pyspark.na.drop().show()"
   ]
  },
  {
   "cell_type": "code",
   "execution_count": 22,
   "id": "56a64431-28f1-4ce6-bd25-1bb22b00d318",
   "metadata": {},
   "outputs": [
    {
     "name": "stdout",
     "output_type": "stream",
     "text": [
      "+--------------------+-------------+\n",
      "|                name|selling_price|\n",
      "+--------------------+-------------+\n",
      "|Mercedes-Benz S-C...|      6000000|\n",
      "|Volvo XC90 T8 Exc...|     10000000|\n",
      "|BMW 6 Series GT 6...|      6000000|\n",
      "|BMW X7 xDrive 30d...|      7200000|\n",
      "|BMW 6 Series GT 6...|      6000000|\n",
      "|BMW 6 Series GT 6...|      6000000|\n",
      "|Audi A6 35 TFSI M...|      6223000|\n",
      "|Audi A6 35 TFSI M...|      6523000|\n",
      "|Mercedes-Benz S-C...|      6000000|\n",
      "|Mercedes-Benz S-C...|      6000000|\n",
      "+--------------------+-------------+\n",
      "\n"
     ]
    }
   ],
   "source": [
    "## filter\n",
    "df_pyspark.filter('selling_price>5950000').select([\"name\",\"selling_price\"]).show()"
   ]
  },
  {
   "cell_type": "code",
   "execution_count": 23,
   "id": "19b096fc-f44e-4ca1-83a0-ee4688be05d2",
   "metadata": {},
   "outputs": [
    {
     "name": "stdout",
     "output_type": "stream",
     "text": [
      "+--------------------+----+-------------+---------+------+------------+--------------+----------+-------+----------+-------------------+-----+\n",
      "|                name|year|selling_price|km_driven|  fuel|transmission|         owner|   mileage| engine| max_power|             torque|seats|\n",
      "+--------------------+----+-------------+---------+------+------------+--------------+----------+-------+----------+-------------------+-----+\n",
      "|Mercedes-Benz S-C...|2017|      6000000|    37000|Diesel|   Automatic|   First Owner| 13.5 kmpl|2987 CC|254.79 bhp|620Nm@ 1600-2400rpm|    5|\n",
      "|BMW X7 xDrive 30d...|2020|      7200000|     5000|Diesel|   Automatic|   First Owner|13.38 kmpl|2993 CC|   265 bhp|620Nm@ 1500-2500rpm|    7|\n",
      "|Audi A6 35 TFSI M...|2019|      6223000|     7800|Petrol|   Automatic|Test Drive Car|15.26 kmpl|1798 CC|187.74 bhp|320Nm@ 1400-4100rpm|    5|\n",
      "|Audi A6 35 TFSI M...|2019|      6523000|    23600|Petrol|   Automatic|Test Drive Car|15.26 kmpl|1798 CC|187.74 bhp|320Nm@ 1400-4100rpm|    5|\n",
      "|Mercedes-Benz S-C...|2017|      6000000|    37000|Diesel|   Automatic|   First Owner| 13.5 kmpl|2987 CC|254.79 bhp|620Nm@ 1600-2400rpm|    5|\n",
      "|Mercedes-Benz S-C...|2017|      6000000|    37000|Diesel|   Automatic|   First Owner| 13.5 kmpl|2987 CC|254.79 bhp|620Nm@ 1600-2400rpm|    5|\n",
      "+--------------------+----+-------------+---------+------+------------+--------------+----------+-------+----------+-------------------+-----+\n",
      "\n"
     ]
    }
   ],
   "source": [
    "##multy filter criteria\n",
    "df_pyspark.filter((df_pyspark['selling_price']>=5950000) & (df_pyspark['seats']>=5) ).show()"
   ]
  },
  {
   "cell_type": "code",
   "execution_count": 24,
   "id": "7d28897a-0841-4c71-a8fa-822c6e4b54a3",
   "metadata": {},
   "outputs": [
    {
     "name": "stdout",
     "output_type": "stream",
     "text": [
      "+----+-----+\n",
      "|year|count|\n",
      "+----+-----+\n",
      "|2016|  859|\n",
      "|2020|   74|\n",
      "|2019|  583|\n",
      "|2017| 1017|\n",
      "|2014|  620|\n",
      "|2013|  667|\n",
      "|2018|  804|\n",
      "|2015|  776|\n",
      "+----+-----+\n",
      "\n"
     ]
    }
   ],
   "source": [
    "df_pyspark.groupBy(\"year\").count().filter(\"year>2012\").show()"
   ]
  },
  {
   "cell_type": "code",
   "execution_count": 25,
   "id": "7870b91d-d848-483c-bee4-c935827222df",
   "metadata": {},
   "outputs": [
    {
     "name": "stdout",
     "output_type": "stream",
     "text": [
      "+----+------------------+\n",
      "|year|        avg(seats)|\n",
      "+----+------------------+\n",
      "|2016| 5.463785046728972|\n",
      "|2020| 5.243243243243243|\n",
      "|2019| 5.204116638078903|\n",
      "|2017| 5.313181367690783|\n",
      "|2014|5.6025848142164785|\n",
      "|2013| 5.603007518796993|\n",
      "|2018|5.2789539227895395|\n",
      "|2015| 5.598709677419355|\n",
      "+----+------------------+\n",
      "\n"
     ]
    }
   ],
   "source": [
    "df_pyspark.groupBy(\"year\").mean().filter(\"year>2012\").show()"
   ]
  },
  {
   "cell_type": "code",
   "execution_count": 26,
   "id": "a8c1f527-00bd-4b65-bd41-f1c5ebdfd05f",
   "metadata": {},
   "outputs": [
    {
     "name": "stdout",
     "output_type": "stream",
     "text": [
      "+----------+\n",
      "| sum(year)|\n",
      "+----------+\n",
      "|1.568144E7|\n",
      "+----------+\n",
      "\n"
     ]
    }
   ],
   "source": [
    "df_pyspark.agg({\"year\":\"sum\"}).show()"
   ]
  },
  {
   "cell_type": "code",
   "execution_count": 27,
   "id": "2abcde0b-c62c-4e5c-be80-4f104f73954c",
   "metadata": {},
   "outputs": [
    {
     "name": "stdout",
     "output_type": "stream",
     "text": [
      "+----------+\n",
      "|max(seats)|\n",
      "+----------+\n",
      "|        14|\n",
      "+----------+\n",
      "\n"
     ]
    }
   ],
   "source": [
    "df_pyspark.agg({\"seats\":\"max\"}).show()"
   ]
  },
  {
   "cell_type": "code",
   "execution_count": 28,
   "id": "eada499c-488e-4893-9b0c-47d4de2fea39",
   "metadata": {},
   "outputs": [
    {
     "name": "stdout",
     "output_type": "stream",
     "text": [
      "+----+------------------+\n",
      "|year|        avg(seats)|\n",
      "+----+------------------+\n",
      "|2016| 5.463785046728972|\n",
      "|2020| 5.243243243243243|\n",
      "|2019| 5.204116638078903|\n",
      "|2017| 5.313181367690783|\n",
      "|2014|5.6025848142164785|\n",
      "|2013| 5.603007518796993|\n",
      "|2018|5.2789539227895395|\n",
      "|2015| 5.598709677419355|\n",
      "+----+------------------+\n",
      "\n"
     ]
    }
   ],
   "source": [
    "df_cars.groupBy(\"year\").mean().filter(\"year>2012\").show()"
   ]
  },
  {
   "cell_type": "code",
   "execution_count": 29,
   "id": "4f90d429-db26-4a44-a76f-23da457f5786",
   "metadata": {},
   "outputs": [
    {
     "name": "stdout",
     "output_type": "stream",
     "text": [
      "root\n",
      " |-- name: string (nullable = true)\n",
      " |-- year: string (nullable = true)\n",
      " |-- selling_price: string (nullable = true)\n",
      " |-- km_driven: string (nullable = true)\n",
      " |-- fuel: string (nullable = true)\n",
      " |-- seller_type: string (nullable = true)\n",
      " |-- transmission: string (nullable = true)\n",
      " |-- owner: string (nullable = true)\n",
      " |-- mileage: string (nullable = true)\n",
      " |-- engine: string (nullable = true)\n",
      " |-- max_power: string (nullable = true)\n",
      " |-- torque: string (nullable = true)\n",
      " |-- seats: integer (nullable = true)\n",
      "\n"
     ]
    }
   ],
   "source": [
    "df_cars.printSchema()"
   ]
  },
  {
   "cell_type": "code",
   "execution_count": 30,
   "id": "2c193aaa-1756-49bf-b926-210e75e17d13",
   "metadata": {},
   "outputs": [
    {
     "name": "stdout",
     "output_type": "stream",
     "text": [
      "+--------------------+---------------+-------------+---------+------+-----------+------------+------------+----------+-------+----------+--------------------+-----+\n",
      "|                name|           year|selling_price|km_driven|  fuel|seller_type|transmission|       owner|   mileage| engine| max_power|              torque|seats|\n",
      "+--------------------+---------------+-------------+---------+------+-----------+------------+------------+----------+-------+----------+--------------------+-----+\n",
      "|Maruti Swift Dzir...|           2014|       450000|   145500|Diesel| Individual|      Manual| First Owner| 23.4 kmpl|1248 CC|    74 bhp|      190Nm@ 2000rpm|    5|\n",
      "|Skoda Rapid 1.5 T...|           2014|       370000|   120000|Diesel| Individual|      Manual|Second Owner|21.14 kmpl|1498 CC|103.52 bhp| 250Nm@ 1500-2500rpm|    5|\n",
      "|\"Honda City 2017-...|700(kgm@ rpm)\"\"|           5\"|     NULL|  NULL|       NULL|        NULL|        NULL|      NULL|   NULL|      NULL|                NULL| NULL|\n",
      "|Hyundai i20 Sport...|           2010|       225000|   127000|Diesel| Individual|      Manual| First Owner| 23.0 kmpl|1396 CC|    90 bhp|22.4 kgm at 1750-...|    5|\n",
      "|\"Maruti Swift VXI...|500(kgm@ rpm)\"\"|           5\"|     NULL|  NULL|       NULL|        NULL|        NULL|      NULL|   NULL|      NULL|                NULL| NULL|\n",
      "|Hyundai Xcent 1.2...|           2017|       440000|    45000|Petrol| Individual|      Manual| First Owner|20.14 kmpl|1197 CC| 81.86 bhp|   113.75nm@ 4000rpm|    5|\n",
      "|\"Maruti Wagon R L...|500(kgm@ rpm)\"\"|           5\"|     NULL|  NULL|       NULL|        NULL|        NULL|      NULL|   NULL|      NULL|                NULL| NULL|\n",
      "|  Maruti 800 DX BSII|           2001|        45000|     5000|Petrol| Individual|      Manual|Second Owner| 16.1 kmpl| 796 CC|    37 bhp|       59Nm@ 2500rpm|    4|\n",
      "|    Toyota Etios VXD|           2011|       350000|    90000|Diesel| Individual|      Manual| First Owner|23.59 kmpl|1364 CC|  67.1 bhp| 170Nm@ 1800-2400rpm|    5|\n",
      "|Ford Figo Diesel ...|           2013|       200000|   169000|Diesel| Individual|      Manual| First Owner| 20.0 kmpl|1399 CC|  68.1 bhp|      160Nm@ 2000rpm|    5|\n",
      "|Renault Duster 11...|           2014|       500000|    68000|Diesel| Individual|      Manual|Second Owner|19.01 kmpl|1461 CC|108.45 bhp|      248Nm@ 2250rpm|    5|\n",
      "|       Maruti Zen LX|           2005|        92000|   100000|Petrol| Individual|      Manual|Second Owner| 17.3 kmpl| 993 CC|    60 bhp|       78Nm@ 4500rpm|    5|\n",
      "|Maruti Swift Dzir...|           2009|       280000|   140000|Diesel| Individual|      Manual|Second Owner| 19.3 kmpl|1248 CC|  73.9 bhp|      190Nm@ 2000rpm|    5|\n",
      "|Maruti Swift 1.3 VXi|           2007|       200000|    80000|Petrol| Individual|      Manual|Second Owner|      NULL|   NULL|      NULL|                NULL| NULL|\n",
      "|Maruti Wagon R LX...|           2009|       180000|    90000|Petrol| Individual|      Manual|Second Owner| 18.9 kmpl|1061 CC|    67 bhp|       84Nm@ 3500rpm|    5|\n",
      "|Mahindra KUV 100 ...|           2016|       400000|    40000|Petrol| Individual|      Manual| First Owner|18.15 kmpl|1198 CC|    82 bhp| 115Nm@ 3500-3600rpm|    5|\n",
      "|Maruti Ertiga SHV...|           2016|       778000|    70000|Diesel| Individual|      Manual|Second Owner|24.52 kmpl|1248 CC|  88.5 bhp|      200Nm@ 1750rpm|    7|\n",
      "|Hyundai i20 1.4 C...|           2012|       500000|    53000|Diesel| Individual|      Manual|Second Owner| 23.0 kmpl|1396 CC|    90 bhp|22.4 kgm at 1750-...|    5|\n",
      "|      Maruti Alto LX|           2002|       150000|    80000|Petrol| Individual|      Manual|Second Owner| 19.7 kmpl| 796 CC|  46.3 bhp|       62Nm@ 3000rpm|    5|\n",
      "|Hyundai i20 2015-...|           2016|       680000|   100000|Diesel| Individual|      Manual| First Owner|22.54 kmpl|1396 CC| 88.73 bhp|219.7Nm@ 1500-275...|    5|\n",
      "+--------------------+---------------+-------------+---------+------+-----------+------------+------------+----------+-------+----------+--------------------+-----+\n",
      "only showing top 20 rows\n",
      "\n"
     ]
    }
   ],
   "source": [
    "df_cars.show()"
   ]
  },
  {
   "cell_type": "code",
   "execution_count": 31,
   "id": "d471f18f-d2c5-472e-8753-7c7640d4c0ff",
   "metadata": {},
   "outputs": [],
   "source": [
    "from pyspark.sql.types import IntegerType,BooleanType,DateType\n",
    "# Convert String to Integer Type\n",
    "df_cars = df_cars.withColumn(\"year\",df_cars.year.cast(IntegerType()))\n",
    "df_cars = df_cars.withColumn(\"selling_price\",df_cars.selling_price.cast(IntegerType()))\n",
    "df_cars = df_cars.withColumn(\"km_driven\",df_cars.km_driven.cast(IntegerType()))"
   ]
  },
  {
   "cell_type": "code",
   "execution_count": 32,
   "id": "a4ac93e8-500e-4b1b-85d5-def9ddc0818b",
   "metadata": {},
   "outputs": [
    {
     "name": "stdout",
     "output_type": "stream",
     "text": [
      "root\n",
      " |-- name: string (nullable = true)\n",
      " |-- year: integer (nullable = true)\n",
      " |-- selling_price: integer (nullable = true)\n",
      " |-- km_driven: integer (nullable = true)\n",
      " |-- fuel: string (nullable = true)\n",
      " |-- seller_type: string (nullable = true)\n",
      " |-- transmission: string (nullable = true)\n",
      " |-- owner: string (nullable = true)\n",
      " |-- mileage: string (nullable = true)\n",
      " |-- engine: string (nullable = true)\n",
      " |-- max_power: string (nullable = true)\n",
      " |-- torque: string (nullable = true)\n",
      " |-- seats: integer (nullable = true)\n",
      "\n"
     ]
    }
   ],
   "source": [
    "df_cars.printSchema()\n"
   ]
  },
  {
   "cell_type": "code",
   "execution_count": 102,
   "id": "2013a9d8-eea6-400e-8d5b-04d03e780b40",
   "metadata": {},
   "outputs": [],
   "source": [
    "training = df_cars['name','year','km_driven','selling_price']"
   ]
  },
  {
   "cell_type": "code",
   "execution_count": 103,
   "id": "d34aa7d9-edb6-42f6-ae9b-27844da37df8",
   "metadata": {},
   "outputs": [],
   "source": [
    "training = training.na.drop()"
   ]
  },
  {
   "cell_type": "code",
   "execution_count": null,
   "id": "82b795ff-52df-4e16-86c7-378071d25d15",
   "metadata": {},
   "outputs": [],
   "source": []
  },
  {
   "cell_type": "code",
   "execution_count": 104,
   "id": "385b7340-e4c3-4d30-a465-806b9dde19d8",
   "metadata": {},
   "outputs": [],
   "source": [
    "from pyspark.sql.functions import desc, asc"
   ]
  },
  {
   "cell_type": "code",
   "execution_count": 105,
   "id": "604d3d7e-7e84-4831-a524-37188e6363a6",
   "metadata": {},
   "outputs": [
    {
     "name": "stdout",
     "output_type": "stream",
     "text": [
      "+--------------------+----+---------+-------------+\n",
      "|                name|year|km_driven|selling_price|\n",
      "+--------------------+----+---------+-------------+\n",
      "|Mahindra Willys C...|1983|    10000|       300000|\n",
      "|Maruti Omni LPG S...|1991|   120000|        55000|\n",
      "|Mahindra Jeep CL ...|1994|   100000|       120000|\n",
      "|       Maruti 800 AC|1994|    60000|        45000|\n",
      "|Ambassador Classi...|1994|   100000|        99000|\n",
      "|Mahindra Jeep MM 540|1995|    90000|       160000|\n",
      "|      Maruti 800 Std|1995|    70000|        55000|\n",
      "|Mahindra Jeep Cla...|1996|     5000|       163000|\n",
      "|       Maruti 800 DX|1996|    32000|        40000|\n",
      "|       Maruti 800 AC|1996|    70000|        42000|\n",
      "|       Maruti 800 DX|1997|    25000|        60000|\n",
      "|Mahindra Jeep CL ...|1997|   100000|       160000|\n",
      "|      Maruti 800 Std|1997|   110000|        50000|\n",
      "|      Maruti Zen LXI|1997|   100000|        70000|\n",
      "|       Maruti 800 AC|1997|    80000|        29999|\n",
      "|    Maruti Esteem AX|1997|    94000|       125000|\n",
      "|       Maruti 800 AC|1997|   120000|        50000|\n",
      "|     Peugeot 309 GLD|1997|   110000|        57000|\n",
      "|       Maruti 800 AC|1997|    60000|        50000|\n",
      "|Maruti Gypsy King...|1997|   186388|       300000|\n",
      "+--------------------+----+---------+-------------+\n",
      "only showing top 20 rows\n",
      "\n"
     ]
    }
   ],
   "source": [
    "training.orderBy(training.year.asc()).show()"
   ]
  },
  {
   "cell_type": "code",
   "execution_count": 106,
   "id": "cb6717b3-8009-4473-911c-27703062ada2",
   "metadata": {},
   "outputs": [],
   "source": [
    "training = training.orderBy(training.year.desc())"
   ]
  },
  {
   "cell_type": "code",
   "execution_count": 107,
   "id": "ffbdeb83-25d2-4065-a3b7-c9ce381313ea",
   "metadata": {},
   "outputs": [
    {
     "name": "stdout",
     "output_type": "stream",
     "text": [
      "+--------------------+----+---------+-------------+\n",
      "|                name|year|km_driven|selling_price|\n",
      "+--------------------+----+---------+-------------+\n",
      "| Datsun RediGO 1.0 S|2020|     2136|       350000|\n",
      "|    Maruti Dzire LXI|2020|    15000|       550000|\n",
      "|Mahindra KUV 100 ...|2020|    44665|       480000|\n",
      "|  Maruti Celerio VXI|2020|    13000|       475000|\n",
      "|Maruti Swift Dzir...|2020|     1500|       730000|\n",
      "|Hyundai Xcent 1.2...|2020|    32000|       524000|\n",
      "| Maruti Alto K10 VXI|2020|     6000|       390000|\n",
      "|Honda Civic ZX Di...|2020|     5500|      2125000|\n",
      "|Hyundai Creta 1.6...|2020|     2700|      1950000|\n",
      "|Hyundai Elite i20...|2020|     5000|       720000|\n",
      "|MG Hector Sharp D...|2020|     1600|      1900000|\n",
      "|Maruti Eeco CNG 5...|2020|    35000|       409999|\n",
      "|  Maruti Celerio ZXI|2020|    25000|       420000|\n",
      "|Kia Seltos HTX Pl...|2020|     5000|      1900000|\n",
      "|    Maruti Dzire VXI|2020|    70000|       580000|\n",
      "|  Mahindra XUV500 W7|2020|   120000|       830000|\n",
      "|Maruti Celerio X ZXI|2020|   120000|       250000|\n",
      "|Hyundai Grand i10...|2020|     5000|       675000|\n",
      "|Tata Nexon 1.2 Re...|2020|     5000|       950000|\n",
      "|Ford Freestyle Ti...|2020|     5000|       400000|\n",
      "+--------------------+----+---------+-------------+\n",
      "only showing top 20 rows\n",
      "\n"
     ]
    }
   ],
   "source": [
    "training.show()"
   ]
  },
  {
   "cell_type": "code",
   "execution_count": 108,
   "id": "4e8da53c-641c-4f3c-bf63-3756b9c486e9",
   "metadata": {},
   "outputs": [
    {
     "name": "stdout",
     "output_type": "stream",
     "text": [
      "root\n",
      " |-- name: string (nullable = true)\n",
      " |-- year: integer (nullable = true)\n",
      " |-- km_driven: integer (nullable = true)\n",
      " |-- selling_price: integer (nullable = true)\n",
      "\n"
     ]
    }
   ],
   "source": [
    "training.printSchema()"
   ]
  },
  {
   "cell_type": "code",
   "execution_count": 109,
   "id": "f26182e9-b5f3-40a0-8bc1-cd8f1619df58",
   "metadata": {},
   "outputs": [
    {
     "data": {
      "text/plain": [
       "DataFrame[name: string, year: int, km_driven: int, selling_price: int]"
      ]
     },
     "execution_count": 109,
     "metadata": {},
     "output_type": "execute_result"
    }
   ],
   "source": [
    "training"
   ]
  },
  {
   "cell_type": "code",
   "execution_count": 110,
   "id": "3f3f4c29-f01c-471e-8b1b-dcad2288546b",
   "metadata": {},
   "outputs": [
    {
     "name": "stdout",
     "output_type": "stream",
     "text": [
      "(7786, 4)\n"
     ]
    }
   ],
   "source": [
    "print((training.count(), len(training.columns)))"
   ]
  },
  {
   "cell_type": "code",
   "execution_count": 111,
   "id": "3a333fb0-b95f-45f6-adca-d08e6a0508a3",
   "metadata": {},
   "outputs": [],
   "source": [
    "from pyspark.ml.feature import VectorAssembler\n",
    "featureaseembler=VectorAssembler(inputCols=[\"year\",\"km_driven\"],outputCol=\"Independ Features\")"
   ]
  },
  {
   "cell_type": "code",
   "execution_count": 112,
   "id": "9d668528-2982-42f8-899b-36db6581aecf",
   "metadata": {},
   "outputs": [],
   "source": [
    "output=featureaseembler.transform(training)"
   ]
  },
  {
   "cell_type": "code",
   "execution_count": 113,
   "id": "a148ceaf-d00e-4c85-bd65-0434ee07b427",
   "metadata": {},
   "outputs": [
    {
     "name": "stdout",
     "output_type": "stream",
     "text": [
      "+--------------------+----+---------+-------------+-----------------+\n",
      "|                name|year|km_driven|selling_price|Independ Features|\n",
      "+--------------------+----+---------+-------------+-----------------+\n",
      "|Ford Freestyle Ti...|2020|     5000|       400000|  [2020.0,5000.0]|\n",
      "|  Maruti Celerio VXI|2020|    13000|       475000| [2020.0,13000.0]|\n",
      "|Hyundai Elite i20...|2020|     5000|       720000|  [2020.0,5000.0]|\n",
      "|Hyundai Xcent 1.2...|2020|    32000|       524000| [2020.0,32000.0]|\n",
      "|Maruti Eeco CNG 5...|2020|    35000|       409999| [2020.0,35000.0]|\n",
      "| Datsun RediGO 1.0 S|2020|     2136|       350000|  [2020.0,2136.0]|\n",
      "|Mahindra KUV 100 ...|2020|    44665|       480000| [2020.0,44665.0]|\n",
      "|Maruti Swift Dzir...|2020|     1500|       730000|  [2020.0,1500.0]|\n",
      "| Maruti Alto K10 VXI|2020|     6000|       390000|  [2020.0,6000.0]|\n",
      "|Maruti Alto 800 V...|2020|    15000|       370000| [2020.0,15000.0]|\n",
      "|Kia Seltos HTX Pl...|2020|     5000|      1900000|  [2020.0,5000.0]|\n",
      "|Toyota Innova Cry...|2020|    20102|      1560000| [2020.0,20102.0]|\n",
      "|  Mahindra XUV500 W7|2020|   120000|       830000|[2020.0,120000.0]|\n",
      "| Maruti Baleno Delta|2020|     5000|       630000|  [2020.0,5000.0]|\n",
      "|Hyundai Grand i10...|2020|     5000|       675000|  [2020.0,5000.0]|\n",
      "|Honda Civic ZX Di...|2020|     5500|      2125000|  [2020.0,5500.0]|\n",
      "|Hyundai Creta 1.6...|2020|     2700|      1950000|  [2020.0,2700.0]|\n",
      "|MG Hector Sharp D...|2020|     1600|      1900000|  [2020.0,1600.0]|\n",
      "|  Maruti Celerio ZXI|2020|    25000|       420000| [2020.0,25000.0]|\n",
      "|    Maruti Dzire VXI|2020|    70000|       580000| [2020.0,70000.0]|\n",
      "+--------------------+----+---------+-------------+-----------------+\n",
      "only showing top 20 rows\n",
      "\n"
     ]
    }
   ],
   "source": [
    "output.show()"
   ]
  },
  {
   "cell_type": "code",
   "execution_count": 115,
   "id": "d8151727-f9a4-4677-b2ca-ea7241215995",
   "metadata": {},
   "outputs": [],
   "source": [
    "finalized_data=output.select(\"Independ Features\",\"selling_price\")"
   ]
  },
  {
   "cell_type": "code",
   "execution_count": 116,
   "id": "26b6b2e7-3f67-4a20-b7ed-746a69832597",
   "metadata": {},
   "outputs": [
    {
     "name": "stdout",
     "output_type": "stream",
     "text": [
      "+-----------------+-------------+\n",
      "|Independ Features|selling_price|\n",
      "+-----------------+-------------+\n",
      "|  [2020.0,5000.0]|       400000|\n",
      "| [2020.0,13000.0]|       475000|\n",
      "|  [2020.0,5000.0]|       720000|\n",
      "| [2020.0,32000.0]|       524000|\n",
      "| [2020.0,35000.0]|       409999|\n",
      "|  [2020.0,2136.0]|       350000|\n",
      "| [2020.0,44665.0]|       480000|\n",
      "|  [2020.0,1500.0]|       730000|\n",
      "|  [2020.0,6000.0]|       390000|\n",
      "| [2020.0,15000.0]|       370000|\n",
      "|  [2020.0,5000.0]|      1900000|\n",
      "| [2020.0,20102.0]|      1560000|\n",
      "|[2020.0,120000.0]|       830000|\n",
      "|  [2020.0,5000.0]|       630000|\n",
      "|  [2020.0,5000.0]|       675000|\n",
      "|  [2020.0,5500.0]|      2125000|\n",
      "|  [2020.0,2700.0]|      1950000|\n",
      "|  [2020.0,1600.0]|      1900000|\n",
      "| [2020.0,25000.0]|       420000|\n",
      "| [2020.0,70000.0]|       580000|\n",
      "+-----------------+-------------+\n",
      "only showing top 20 rows\n",
      "\n"
     ]
    }
   ],
   "source": [
    "finalized_data.show()"
   ]
  },
  {
   "cell_type": "code",
   "execution_count": 118,
   "id": "a5e4400c-b462-4350-980a-b42dde57840c",
   "metadata": {},
   "outputs": [],
   "source": [
    "from pyspark.ml.regression import LinearRegression\n",
    "## train test split\n",
    "train_data, test_data=finalized_data.randomSplit([0.75,0.25])\n",
    "reggresor=LinearRegression(featuresCol='Independ Features', labelCol='selling_price')\n",
    "reggresor=reggresor.fit(train_data)"
   ]
  },
  {
   "cell_type": "code",
   "execution_count": 119,
   "id": "563e8e06-6ce1-44c3-a68e-f3726c662bfe",
   "metadata": {},
   "outputs": [
    {
     "data": {
      "text/plain": [
       "DenseVector([80403.1737, -0.8804])"
      ]
     },
     "execution_count": 119,
     "metadata": {},
     "output_type": "execute_result"
    }
   ],
   "source": [
    "### Coefficeients\n",
    "reggresor.coefficients"
   ]
  },
  {
   "cell_type": "code",
   "execution_count": 120,
   "id": "1808d3a0-ba19-44d2-8dff-260c69a7a5db",
   "metadata": {},
   "outputs": [
    {
     "data": {
      "text/plain": [
       "-161213564.79497066"
      ]
     },
     "execution_count": 120,
     "metadata": {},
     "output_type": "execute_result"
    }
   ],
   "source": [
    "### Intercepts\n",
    "reggresor.intercept"
   ]
  },
  {
   "cell_type": "code",
   "execution_count": 121,
   "id": "1123a884-5b44-4b08-ac4e-afafbadffd22",
   "metadata": {},
   "outputs": [],
   "source": [
    "### Prediction\n",
    "pred_result=reggresor.evaluate(test_data)"
   ]
  },
  {
   "cell_type": "code",
   "execution_count": 122,
   "id": "3872d992-0b55-42fb-9a38-17fddfc9d5da",
   "metadata": {},
   "outputs": [
    {
     "name": "stdout",
     "output_type": "stream",
     "text": [
      "+-----------------+-------------+-------------------+\n",
      "|Independ Features|selling_price|         prediction|\n",
      "+-----------------+-------------+-------------------+\n",
      "|[1994.0,100000.0]|       120000| -977673.8969731927|\n",
      "| [1996.0,70000.0]|        42000| -790456.3271164596|\n",
      "| [1997.0,25000.0]|        60000| -670436.3196797669|\n",
      "|[1997.0,110000.0]|        50000| -745268.1167866886|\n",
      "|[1997.0,120000.0]|        40000| -754071.8576228023|\n",
      "| [1998.0,40000.0]|        35000| -603238.7572597265|\n",
      "| [1998.0,50000.0]|        55000| -612042.4980958402|\n",
      "| [1998.0,70000.0]|        40000| -629649.9797680676|\n",
      "| [1998.0,80000.0]|        45000| -638453.7206041813|\n",
      "| [1999.0,50000.0]|        40000| -531639.3244216442|\n",
      "| [1999.0,60000.0]|        50000| -540443.0652577579|\n",
      "|[1999.0,100000.0]|        40000| -575658.0286021829|\n",
      "| [2000.0,50000.0]|        45000| -451236.1507474184|\n",
      "|[2000.0,120000.0]|        95000|-512862.33660018444|\n",
      "|[2000.0,180000.0]|        50000| -565684.7816168368|\n",
      "|[2001.0,137000.0]|        45000|-447425.52234736085|\n",
      "| [2002.0,60000.0]|        56000| -299233.5442351401|\n",
      "| [2002.0,62000.0]|        50000|-300994.29240235686|\n",
      "| [2002.0,75000.0]|        35000| -312439.1554892957|\n",
      "| [2002.0,80000.0]|        75000|-316841.02590736747|\n",
      "+-----------------+-------------+-------------------+\n",
      "only showing top 20 rows\n",
      "\n"
     ]
    }
   ],
   "source": [
    "pred_result.predictions.show()"
   ]
  },
  {
   "cell_type": "code",
   "execution_count": 123,
   "id": "03944734-fc3a-4b97-93cf-df84eab5b458",
   "metadata": {},
   "outputs": [
    {
     "data": {
      "text/plain": [
       "(372034.98477609846, 459394107053.49695)"
      ]
     },
     "execution_count": 123,
     "metadata": {},
     "output_type": "execute_result"
    }
   ],
   "source": [
    "pred_result.meanAbsoluteError, pred_result.meanSquaredError"
   ]
  },
  {
   "cell_type": "code",
   "execution_count": null,
   "id": "5505793b-25ca-4aa9-aa63-f681ff1cb44a",
   "metadata": {},
   "outputs": [],
   "source": []
  }
 ],
 "metadata": {
  "kernelspec": {
   "display_name": "Python 3 (ipykernel)",
   "language": "python",
   "name": "python3"
  },
  "language_info": {
   "codemirror_mode": {
    "name": "ipython",
    "version": 3
   },
   "file_extension": ".py",
   "mimetype": "text/x-python",
   "name": "python",
   "nbconvert_exporter": "python",
   "pygments_lexer": "ipython3",
   "version": "3.11.6"
  }
 },
 "nbformat": 4,
 "nbformat_minor": 5
}
